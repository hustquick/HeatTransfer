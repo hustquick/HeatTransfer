{
 "cells": [
  {
   "cell_type": "markdown",
   "id": "85a8fc3f",
   "metadata": {
    "pycharm": {
     "name": "#%% md\n"
    }
   },
   "source": [
    "# 导言区"
   ]
  },
  {
   "cell_type": "code",
   "execution_count": 1,
   "id": "f397dd62",
   "metadata": {
    "pycharm": {
     "name": "#%%\n"
    }
   },
   "outputs": [],
   "source": [
    "import numpy as np\n",
    "import scipy.constants as sc\n",
    "from CoolProp.CoolProp import PropsSI as psi\n",
    "import sympy as sp\n",
    "from sympy import symbols, diff, Function, dsolve, solve, pi, integrate\n",
    "from scipy.integrate import quad\n",
    "import matplotlib.pyplot as plt\n",
    "from Appendix import Appendix5_air_physical_properties as ap5\n",
    "from Appendix.Appendix4_lambda_ import get_lambda_\n",
    "from Functions.SteadyStateConduction import *\n",
    "from Functions.UnsteadyStateConduction import *\n",
    "from Appendix import Appendix4_lambda_ as ap4\n",
    "from scipy.integrate import solve_bvp\n",
    "from scipy.special import iv\n",
    "from Functions.Self_defined import find_nearest"
   ]
  },
  {
   "cell_type": "markdown",
   "id": "79c7c6af",
   "metadata": {
    "pycharm": {
     "name": "#%% md\n"
    }
   },
   "source": [
    "## 习题02-01"
   ]
  },
  {
   "cell_type": "code",
   "execution_count": 2,
   "id": "daa3b372",
   "metadata": {
    "pycharm": {
     "name": "#%%\n"
    }
   },
   "outputs": [
    {
     "name": "stdout",
     "output_type": "stream",
     "text": [
      "t = 238.20 C\n"
     ]
    }
   ],
   "source": [
    "t_boiler = 111\n",
    "q = 42400\n",
    "delta = 3e-3\n",
    "lambda_ = 1\n",
    "\n",
    "t = root(lambda t: q - lambda_ * (t - t_boiler) / delta,\n",
    "         t_boiler + 10).x[0]\n",
    "print(f't = {t:.2f} C')"
   ]
  },
  {
   "cell_type": "markdown",
   "id": "8ea4140c",
   "metadata": {
    "pycharm": {
     "name": "#%% md\n"
    }
   },
   "source": [
    "## 习题02-02"
   ]
  },
  {
   "cell_type": "code",
   "execution_count": 3,
   "id": "89fb1fcc",
   "metadata": {
    "pycharm": {
     "name": "#%%\n"
    }
   },
   "outputs": [
    {
     "name": "stdout",
     "output_type": "stream",
     "text": [
      "Q = 1285717.03 J\n"
     ]
    }
   ],
   "source": [
    "delta_1, delta_2, delta_3 = 0.794e-3, 152e-3, 9.5e-3\n",
    "lambda_1, lambda_2, lambda_3 = 45, 0.07, 0.1\n",
    "area = 37.2\n",
    "t_in = -2\n",
    "t_out = 30\n",
    "h_in = 1.5\n",
    "h_out = 2.5\n",
    "\n",
    "tau = 1*3600\n",
    "\n",
    "R_1 = delta_1 / (lambda_1 * area)\n",
    "R_2 = delta_2 / (lambda_2 * area)\n",
    "R_3 = delta_3 / (lambda_3 * area)\n",
    "R_in = 1 / (h_in * area)\n",
    "R_out = 1 / (h_out * area)\n",
    "R_total = R_1 + R_2 + R_3 + R_in + R_out\n",
    "\n",
    "q = (t_out - t_in) / R_total\n",
    "Q = q * tau\n",
    "print(f'Q = {Q:.2f} J')"
   ]
  },
  {
   "cell_type": "markdown",
   "id": "65d7b32d",
   "metadata": {
    "pycharm": {
     "name": "#%% md\n"
    }
   },
   "source": [
    "## 习题02-03"
   ]
  },
  {
   "cell_type": "code",
   "execution_count": 4,
   "id": "4094abc2",
   "metadata": {
    "pycharm": {
     "name": "#%%\n"
    }
   },
   "outputs": [
    {
     "name": "stdout",
     "output_type": "stream",
     "text": [
      "保温层的厚度为 36 mm\n"
     ]
    }
   ],
   "source": [
    "delta = 20e-3\n",
    "lambda_ = 1.3\n",
    "q = 1500\n",
    "lambda_insu = 0.08\n",
    "t_in = 750\n",
    "t_out = 55\n",
    "\n",
    "R_1 = delta / lambda_\n",
    "R_total = (t_in - t_out) / q\n",
    "R_2 = R_total - R_1\n",
    "delta_insu = lambda_insu * R_2\n",
    "print(f'保温层的厚度为 {delta_insu*1000:.0f} mm')"
   ]
  },
  {
   "cell_type": "markdown",
   "id": "f1630f29",
   "metadata": {
    "pycharm": {
     "name": "#%% md\n"
    }
   },
   "source": [
    "## 习题02-04"
   ]
  },
  {
   "cell_type": "code",
   "execution_count": 5,
   "id": "cbee7d1c",
   "metadata": {
    "pycharm": {
     "name": "#%%\n"
    }
   },
   "outputs": [
    {
     "name": "stdout",
     "output_type": "stream",
     "text": [
      "delta_A = 0.065 m\n",
      "delta_B = 0.032 m\n"
     ]
    }
   ],
   "source": [
    "delta_ratio_A_B = 2\n",
    "lambda_A = 0.08\n",
    "lambda_B = 0.05\n",
    "t_f1 = 400\n",
    "h_1 = 50\n",
    "t_w = 50\n",
    "t_f2 = 25\n",
    "h_2 = 9.5\n",
    "\n",
    "q = h_2 * (t_w - t_f2)\n",
    "\n",
    "\n",
    "def expressions(p):\n",
    "    delta_A, delta_B, R_total = p\n",
    "    expr1 = delta_A - delta_B * delta_ratio_A_B\n",
    "    expr2 = R_total - 1/h_1 - 1/h_2 - delta_A/lambda_A - delta_B/lambda_B\n",
    "    expr3 = q - (t_f1 - t_f2) / R_total\n",
    "    return expr1, expr2, expr3\n",
    "\n",
    "\n",
    "guess_value = (0.02, 0.01, 1)\n",
    "delta_A, delta_B, R_total = root(expressions, guess_value).x\n",
    "print(f'delta_A = {delta_A:.3f} m')\n",
    "print(f'delta_B = {delta_B:.3f} m')"
   ]
  },
  {
   "cell_type": "markdown",
   "id": "61e0b275",
   "metadata": {
    "pycharm": {
     "name": "#%% md\n"
    }
   },
   "source": [
    "## 例题02-06"
   ]
  },
  {
   "cell_type": "code",
   "execution_count": 6,
   "id": "deb56db1",
   "metadata": {
    "pycharm": {
     "name": "#%%\n"
    }
   },
   "outputs": [
    {
     "name": "stdout",
     "output_type": "stream",
     "text": [
      "该燃烧室工作于安全温度范围内\n"
     ]
    }
   ],
   "source": [
    "d_o = 130e-3\n",
    "delta = 2.1e-3\n",
    "lambda_ = 23.2\n",
    "t_o = 240\n",
    "q = 4.8e6\n",
    "t_i_max = 700\n",
    "\n",
    "delta_t = q * delta / lambda_\n",
    "t_i = t_o + delta_t\n",
    "if t_i < t_i_max:\n",
    "    print('该燃烧室工作于安全温度范围内')\n",
    "else:\n",
    "    print('该燃烧室工作于安全温度范围外')"
   ]
  },
  {
   "cell_type": "markdown",
   "source": [
    "## 例题02-07"
   ],
   "metadata": {
    "collapsed": false,
    "pycharm": {
     "name": "#%% md\n"
    }
   }
  },
  {
   "cell_type": "code",
   "execution_count": 7,
   "outputs": [
    {
     "name": "stdout",
     "output_type": "stream",
     "text": [
      "t_bot = 105.96 C\n",
      "t_top = 105.82 C\n"
     ]
    }
   ],
   "source": [
    "P_total = 1000\n",
    "eta = 85/100\n",
    "delta = 3e-3\n",
    "d = 200e-3\n",
    "lambda_ = 18\n",
    "h = 2500\n",
    "t_f = 95\n",
    "\n",
    "P = P_total * eta\n",
    "area = np.pi * d**2 / 4\n",
    "R_1 = 1 / (h * area)\n",
    "R_2 = delta / lambda_\n",
    "R = R_1 + R_2\n",
    "t_bot = t_f + P * R\n",
    "t_top = t_f + P * R_1\n",
    "print(f't_bot = {t_bot:.2f} C')\n",
    "print(f't_top = {t_top:.2f} C')"
   ],
   "metadata": {
    "collapsed": false,
    "pycharm": {
     "name": "#%%\n"
    }
   }
  },
  {
   "cell_type": "markdown",
   "source": [
    "## 例题02-08"
   ],
   "metadata": {
    "collapsed": false,
    "pycharm": {
     "name": "#%% md\n"
    }
   }
  },
  {
   "cell_type": "code",
   "execution_count": 8,
   "outputs": [
    {
     "name": "stdout",
     "output_type": "stream",
     "text": [
      "lambda_ = 1.43770613178973*lambda_1\n",
      "标准材料的导热系数随温度发生变化时，Delta_t1与Delta_t2不等\n"
     ]
    }
   ],
   "source": [
    "t_h = 400\n",
    "t_c = 300\n",
    "Delta_t = 2.49\n",
    "Delta_t1 = 3.56\n",
    "Delta_t2 = 3.60\n",
    "\n",
    "q, A, l, lambda_, lambda_1, lambda_2 = symbols('q A l lambda_ lambda_1 lambda_2')\n",
    "\n",
    "xpr1 = q - Delta_t1 * A * lambda_1 / l\n",
    "xpr2 = q - Delta_t2 * A * lambda_2 / l\n",
    "xpr3 = q - Delta_t * A * lambda_ / l\n",
    "\n",
    "result = solve([xpr1, xpr2, xpr3], [lambda_1, lambda_, lambda_2])\n",
    "lambda_ = 2 * result[lambda_] / (result[lambda_1] + result[lambda_2]) * lambda_1\n",
    "print(f'lambda_ = {lambda_}')\n",
    "\n",
    "if Delta_t1 == Delta_t2:\n",
    "    print('标准材料的导热系数随温度发生变化时，Delta_t1与Delta_t2相等')\n",
    "else:\n",
    "    print('标准材料的导热系数随温度发生变化时，Delta_t1与Delta_t2不等')"
   ],
   "metadata": {
    "collapsed": false,
    "pycharm": {
     "name": "#%%\n"
    }
   }
  },
  {
   "cell_type": "markdown",
   "source": [
    "## 例题02-09"
   ],
   "metadata": {
    "collapsed": false,
    "pycharm": {
     "name": "#%% md\n"
    }
   }
  },
  {
   "cell_type": "code",
   "execution_count": 9,
   "outputs": [
    {
     "name": "stdout",
     "output_type": "stream",
     "text": [
      "热损失为41.95 W\n",
      "其热损失是双层玻璃的44.62倍\n"
     ]
    }
   ],
   "source": [
    "delta_1 = delta_2 = 6e-3\n",
    "delta_air = 8e-3\n",
    "t_in = 20\n",
    "t_out = -20\n",
    "width = length = 60e-2\n",
    "lambda_ = 0.78\n",
    "\n",
    "t = (t_in + t_out) / 2\n",
    "lambda_air = np.interp(t, ap5.temperature_list, ap5.lambda_list)\n",
    "# 也可以利用CoolProp计算lambda的值\n",
    "# lambda_air2 = psi('L', 'T', t+273.15, 'P', 101325, 'Air')\n",
    "\n",
    "area = width * length\n",
    "R_1 = delta_1 / (lambda_ * area)\n",
    "R_2 = delta_2 / (lambda_ * area)\n",
    "R_air = delta_air / (lambda_air * area)\n",
    "\n",
    "R = R_1 + R_2 + R_air\n",
    "q = (t_in - t_out) / R\n",
    "print(f'热损失为{q:.2f} W')\n",
    "\n",
    "R_p = delta_1 / (lambda_ * area)\n",
    "q_p = (t_in - t_out) / R_p\n",
    "times = q_p / q\n",
    "print(f'其热损失是双层玻璃的{times:.2f}倍')"
   ],
   "metadata": {
    "collapsed": false,
    "pycharm": {
     "name": "#%%\n"
    }
   }
  },
  {
   "cell_type": "markdown",
   "source": [
    "## 例题02-10"
   ],
   "metadata": {
    "collapsed": false,
    "pycharm": {
     "name": "#%% md\n"
    }
   }
  },
  {
   "cell_type": "code",
   "execution_count": 10,
   "outputs": [
    {
     "name": "stdout",
     "output_type": "stream",
     "text": [
      "q = 49.99 W/m^2\n"
     ]
    }
   ],
   "source": [
    "delta_g = 3e-3\n",
    "delta_air = 6e-3\n",
    "lambda_g = 0.8\n",
    "t_i = 15\n",
    "t_o = -10\n",
    "\n",
    "air_pressure = sc.atm\n",
    "\n",
    "\n",
    "def expressions(p):\n",
    "    t_12, t_23, t_34, t_45, q, lambda_air1, lambda_air2 = p\n",
    "    xpr1 = q - (t_i - t_12) * lambda_g / delta_g\n",
    "    xpr2 = q - (t_12 - t_23) * lambda_air1 / delta_air\n",
    "    xpr3 = q - (t_23 - t_34) * lambda_g / delta_g\n",
    "    xpr4 = q - (t_34 - t_45) * lambda_air2 / delta_air\n",
    "    xpr5 = q - (t_45 - t_o) * lambda_g / delta_g\n",
    "    xpr6 = lambda_air1 - psi('L', 'T', sc.convert_temperature(((t_12 + t_23) / 2), 'C', 'K'), 'P', air_pressure, 'Air')\n",
    "    xpr7 = lambda_air2 - psi('L', 'T', sc.convert_temperature(((t_34 + t_45) / 2), 'C', 'K'), 'P', air_pressure, 'Air')\n",
    "    return [xpr1, xpr2, xpr3, xpr4, xpr5, xpr6, xpr7]\n",
    "\n",
    "\n",
    "guess_value = [t_i- 1, t_i-2, t_i-3, t_i-4, 1, lambda_g, lambda_g]\n",
    "t_12, t_23, t_34, t_45, q, lambda_air1, lambda_air2 = root(expressions, guess_value).x\n",
    "print(f'q = {q:.2f} W/m^2')"
   ],
   "metadata": {
    "collapsed": false,
    "pycharm": {
     "name": "#%%\n"
    }
   }
  },
  {
   "cell_type": "markdown",
   "id": "35728adb",
   "metadata": {
    "pycharm": {
     "name": "#%% md\n"
    }
   },
   "source": [
    "## 例题02-11"
   ]
  },
  {
   "cell_type": "code",
   "execution_count": 11,
   "outputs": [
    {
     "name": "stdout",
     "output_type": "stream",
     "text": [
      "合金的最高温度为 1078.39 C。\n",
      "合金可以安全地工作\n"
     ]
    }
   ],
   "source": [
    "lambda_ceramics = 1.3\n",
    "t_max = 1250\n",
    "lambda_alloy = 25\n",
    "R_c = 1e-4  # m^2-K/W\n",
    "t_gas = 1700\n",
    "h_gas = 1000\n",
    "t_air = 400\n",
    "h_air = 500\n",
    "delta_ceramics = 1e-3   # 缺失\n",
    "delta_alloy = 1e-3  # 缺失\n",
    "\n",
    "R_1 = 1 / h_gas\n",
    "R_2 = delta_ceramics / lambda_ceramics  # 缺少条件：陶瓷层的厚度\n",
    "R_3 = delta_alloy / lambda_alloy    # 缺少条件：合金层的厚度\n",
    "R_4 = 1 / h_air\n",
    "R_total = R_1 + R_2 + R_c + R_3 + R_4\n",
    "\n",
    "q = (t_gas - t_air) / R_total\n",
    "t_alloy_max = t_air + q * (R_3 + R_4)\n",
    "print(f'合金的最高温度为 {t_alloy_max:.2f} C。')\n",
    "\n",
    "if t_alloy_max > t_max:\n",
    "    print('合金不能安全地工作')\n",
    "else:\n",
    "    print('合金可以安全地工作')"
   ],
   "metadata": {
    "collapsed": false,
    "pycharm": {
     "name": "#%%\n"
    }
   }
  },
  {
   "cell_type": "markdown",
   "source": [
    "## 习题02-12"
   ],
   "metadata": {
    "collapsed": false,
    "pycharm": {
     "name": "#%% md\n"
    }
   }
  },
  {
   "cell_type": "code",
   "execution_count": 12,
   "outputs": [
    {
     "name": "stdout",
     "output_type": "stream",
     "text": [
      "q = 2942.86 W/m^2\n"
     ]
    }
   ],
   "source": [
    "delta_s = 1e-3  # 基板的厚度\n",
    "delta_f = 0.2e-3    # 薄膜的厚度\n",
    "t_f = 20\n",
    "h = 40\n",
    "t_1 = 30\n",
    "t_0 = 60\n",
    "lambda_f = 0.02\n",
    "lambda_s = 0.06\n",
    "\n",
    "R_1 = 1 / h\n",
    "R_2 = delta_f / lambda_f\n",
    "\n",
    "\n",
    "def expressions(p):\n",
    "    q_1, t_2 = p\n",
    "    xpr1 = q_1 - h * (t_2 - t_f)\n",
    "    xpr2 = q_1 - (t_0 - t_2) * lambda_f / delta_f\n",
    "    return [xpr1, xpr2]\n",
    "\n",
    "\n",
    "guess_values = [1, t_0 - 10]\n",
    "q_1, t_2 = root(expressions, guess_values).x\n",
    "q_2 = (t_0 - t_1) * lambda_s / delta_s\n",
    "# 在薄膜与基板的接触面处能量守恒\n",
    "q = q_1 + q_2\n",
    "print(f'q = {q:.2f} W/m^2')"
   ],
   "metadata": {
    "collapsed": false,
    "pycharm": {
     "name": "#%%\n"
    }
   }
  },
  {
   "cell_type": "markdown",
   "source": [
    "## 习题02-13"
   ],
   "metadata": {
    "collapsed": false,
    "pycharm": {
     "name": "#%% md\n"
    }
   }
  },
  {
   "cell_type": "code",
   "execution_count": 13,
   "outputs": [
    {
     "name": "stdout",
     "output_type": "stream",
     "text": [
      "相对误差大小为28.48%\n"
     ]
    }
   ],
   "source": [
    "Delta = 0.1e-3\n",
    "t_1 = 180\n",
    "t_2 = 30\n",
    "fluid = 'Air'\n",
    "Phi = 58.2\n",
    "d = 120e-3\n",
    "\n",
    "p = sc.atm\n",
    "T_1 = sc.convert_temperature(t_1, 'C', 'K')\n",
    "T_2 = sc.convert_temperature(t_2, 'C', 'K')\n",
    "\n",
    "lambda_1 = psi('L', 'T', T_1, 'P', p, fluid)\n",
    "lambda_2 = psi('L', 'T', T_2, 'P', p, fluid)\n",
    "\n",
    "area = np.pi * d**2 / 4    # 纵向单位长度的传热面积\n",
    "q = Phi / area\n",
    "R_total = (t_1 - t_2) / q\n",
    "R_1 = Delta / lambda_1\n",
    "R_2 = Delta / lambda_2\n",
    "R = R_total - R_1 - R_2\n",
    "\n",
    "error = R_total - R\n",
    "error_ratio = error / R\n",
    "\n",
    "print(f'相对误差大小为{error_ratio:.2%}')"
   ],
   "metadata": {
    "collapsed": false,
    "pycharm": {
     "name": "#%%\n"
    }
   }
  },
  {
   "cell_type": "markdown",
   "source": [
    "## 习题02-14"
   ],
   "metadata": {
    "collapsed": false,
    "pycharm": {
     "name": "#%% md\n"
    }
   }
  },
  {
   "cell_type": "code",
   "execution_count": 14,
   "outputs": [
    {
     "name": "stdout",
     "output_type": "stream",
     "text": [
      "delta = 0.107 m\n"
     ]
    }
   ],
   "source": [
    "d = 100e-3\n",
    "density = 20\n",
    "t_o = 400\n",
    "t_insu = 50\n",
    "Phi = 163\n",
    "material = '超细玻璃棉毡、管'\n",
    "lambda_insu = get_lambda_(material, (t_o + t_insu) / 2)\n",
    "R_insu = (t_o - t_insu) / Phi\n",
    "lambda_insu = get_lambda_(material, (t_o + t_insu) / 2)\n",
    "\n",
    "guess_value = d\n",
    "delta = root(lambda delta: R_insu - cylindrical_wall_R(d/2, d/2 + delta, lambda_insu, 1), guess_value).x[0]\n",
    "print(f'delta = {delta:.3f} m')"
   ],
   "metadata": {
    "collapsed": false,
    "pycharm": {
     "name": "#%%\n"
    }
   }
  },
  {
   "cell_type": "markdown",
   "source": [
    "## 习题02-15"
   ],
   "metadata": {
    "collapsed": false,
    "pycharm": {
     "name": "#%% md\n"
    }
   }
  },
  {
   "cell_type": "code",
   "execution_count": 15,
   "outputs": [
    {
     "name": "stdout",
     "output_type": "stream",
     "text": [
      "矿渣棉与煤灰泡沫砖交界界面处的温度不超过允许值\n",
      "增加煤灰泡沫砖的厚度会导致热损失下降\n"
     ]
    }
   ],
   "source": [
    "d_1 = 50e-3\n",
    "delta_1 = 40e-3\n",
    "lambda_1 = 0.11\n",
    "delta_2 = 45e-3\n",
    "lambda_2 = 0.12\n",
    "t_o = 50\n",
    "t_i = 400\n",
    "material1 = '矿渣棉'\n",
    "material2 = '粉煤灰泡沫砖'\n",
    "\n",
    "idx1 = ap4.material_list.index(material1)\n",
    "idx2 = ap4.material_list.index(material2)\n",
    "t_12_max = min(ap4.t_max[idx1], ap4.t_max[idx2])\n",
    "\n",
    "R_1 = cylindrical_wall_R(d_1/2, d_1/2+delta_1, lambda_1, 1)\n",
    "R_2 = cylindrical_wall_R(d_1/2+delta_1, d_1/2+delta_1+delta_2, lambda_2, 1)\n",
    "R = R_1 + R_2\n",
    "q = (t_i - t_o) / R\n",
    "t_12 = t_o + q * R_2\n",
    "if t_12 > t_12_max:\n",
    "    print('矿渣棉与煤灰泡沫砖交界界面处的温度超过允许值')\n",
    "else:\n",
    "    print('矿渣棉与煤灰泡沫砖交界界面处的温度不超过允许值')\n",
    "\n",
    "R_2, delta_2 = sp.symbols('R_2 delta_2')\n",
    "r2 = d_1/2 + delta_1 + delta_2\n",
    "r1 = d_1/2 + delta_1\n",
    "length = 1\n",
    "R_2 = sp.log(r2/r1) / (2*np.pi*lambda_2*length)\n",
    "dR_2_ddelta_2 = sp.diff(R_2, delta_2).subs(delta_2, 0.045)\n",
    "if dR_2_ddelta_2 > 0:\n",
    "    print('增加煤灰泡沫砖的厚度会导致热损失下降')\n",
    "else:\n",
    "    print('增加煤灰泡沫砖的厚度会导致热损失增加')"
   ],
   "metadata": {
    "collapsed": false,
    "pycharm": {
     "name": "#%%\n"
    }
   }
  },
  {
   "cell_type": "markdown",
   "source": [
    "## 习题02-16"
   ],
   "metadata": {
    "collapsed": false,
    "pycharm": {
     "name": "#%% md\n"
    }
   }
  },
  {
   "cell_type": "code",
   "execution_count": 16,
   "outputs": [
    {
     "name": "stdout",
     "output_type": "stream",
     "text": [
      "I = 232.42 A\n"
     ]
    }
   ],
   "source": [
    "d = 3e-3\n",
    "R_e = 2.22e-3 # Ohm per meter\n",
    "delta = 1e-3\n",
    "lambda_ = 0.15\n",
    "t_max = 65\n",
    "t_min = 0\n",
    "\n",
    "R = cylindrical_wall_R(d/2, d/2+delta, lambda_, 1)\n",
    "Phi = (t_max - t_min) / R\n",
    "I = np.sqrt(Phi / R_e)\n",
    "print(f'I = {I:.2f} A')"
   ],
   "metadata": {
    "collapsed": false,
    "pycharm": {
     "name": "#%%\n"
    }
   }
  },
  {
   "cell_type": "markdown",
   "source": [
    "## 习题02-17"
   ],
   "metadata": {
    "collapsed": false,
    "pycharm": {
     "name": "#%% md\n"
    }
   }
  },
  {
   "cell_type": "code",
   "execution_count": 17,
   "outputs": [
    {
     "name": "stdout",
     "output_type": "stream",
     "text": [
      "(1) q = 12539.34 W\n",
      "(2) q = 5808.63 W\n",
      "(3) q = 10910.08 W\n"
     ]
    }
   ],
   "source": [
    "t_gas = 1000\n",
    "t_water = 200\n",
    "h_o = 100\n",
    "h_i = 5000\n",
    "delta = 6e-3\n",
    "lambda_ = 42\n",
    "d_o = 52e-3\n",
    "\n",
    "delta_dirty = [0, 1e-3, 2e-3]\n",
    "lamdba_dirty = [1, 0.08, 1]\n",
    "\n",
    "d_i = d_o - 2*delta\n",
    "d_o = d_o\n",
    "R_1 = 1 / (h_i * np.pi * d_i)\n",
    "R_2 = cylindrical_wall_R(d_i/2, d_o/2, lambda_, 1)\n",
    "\n",
    "for i, delta_d in enumerate(delta_dirty):\n",
    "    lambda_d = lamdba_dirty[i]\n",
    "    R_3 = cylindrical_wall_R(d_o/2, d_o/2 + delta_d, lambda_d, 1)\n",
    "    R_4 = 1 / (h_o * np.pi * (d_o + delta_d))\n",
    "    R_total = R_1 + R_2 + R_3 + R_4\n",
    "    q = (t_gas - t_water) / R_total\n",
    "    print(f'({i+1}) q = {q:.2f} W')"
   ],
   "metadata": {
    "collapsed": false,
    "pycharm": {
     "name": "#%%\n"
    }
   }
  },
  {
   "cell_type": "markdown",
   "source": [
    "## 习题02-18"
   ],
   "metadata": {
    "collapsed": false,
    "pycharm": {
     "name": "#%% md\n"
    }
   }
  },
  {
   "cell_type": "code",
   "execution_count": 18,
   "outputs": [
    {
     "name": "stdout",
     "output_type": "stream",
     "text": [
      "导热系数小的材料紧贴管壁保温效果更好\n"
     ]
    }
   ],
   "source": [
    "d = 100e-3\n",
    "lambda_1 = 0.05\n",
    "lambda_2 = 0.08\n",
    "delta_1 = delta_2 = 75e-3\n",
    "\n",
    "R_1i = cylindrical_wall_R(d/2, d/2+delta_1, lambda_1, 1)\n",
    "R_1o = cylindrical_wall_R(d/2+delta_1, d/2+delta_1+delta_2, lambda_1, 1)\n",
    "R_2i = cylindrical_wall_R(d/2, d/2+delta_2, lambda_2, 1)\n",
    "R_2o = cylindrical_wall_R(d/2+delta_2, d/2+delta_2+delta_1, lambda_2, 1)\n",
    "\n",
    "R_1 = R_1i + R_1o\n",
    "R_2 = R_2i + R_2o\n",
    "\n",
    "if R_1 > R_2:\n",
    "    print(f'导热系数小的材料紧贴管壁保温效果更好')\n",
    "else:\n",
    "    print(f'导热系数大的材料紧贴管壁保温效果更好')"
   ],
   "metadata": {
    "collapsed": false,
    "pycharm": {
     "name": "#%%\n"
    }
   }
  },
  {
   "cell_type": "markdown",
   "source": [
    "## 习题02-19"
   ],
   "metadata": {
    "collapsed": false,
    "pycharm": {
     "name": "#%% md\n"
    }
   }
  },
  {
   "cell_type": "code",
   "execution_count": 19,
   "outputs": [
    {
     "name": "stdout",
     "output_type": "stream",
     "text": [
      "先案敷设材料B，再敷设材料A\n"
     ]
    }
   ],
   "source": [
    "d = 30e-3\n",
    "t = 100\n",
    "t_amb = 20\n",
    "Phi_l1 = 100   # W/m\n",
    "Phi_l2 = 50    # W/m, aim\n",
    "\n",
    "area = np.pi * d\n",
    "\n",
    "h = Phi_l1 / ((t - t_amb) * area)\n",
    "\n",
    "lambda_A = 0.5\n",
    "v_l_A = 3.14e-3\n",
    "lambda_B = 0.1\n",
    "v_l_B = 4.0e-3\n",
    "\n",
    "\n",
    "def find_outer_radius(r_in, area):\n",
    "    r_out = np.sqrt(area / np.pi + r_in**2)\n",
    "    return r_out\n",
    "\n",
    "\n",
    "# 第一种方案，先敷设材料A，再敷设材料B\n",
    "r_1 = find_outer_radius(d/2, v_l_A)\n",
    "r_2 = find_outer_radius(r_1, v_l_B)\n",
    "\n",
    "R_1 = cylindrical_wall_R(d/2, r_1, lambda_A, 1)\n",
    "R_2 = cylindrical_wall_R(r_1, r_2, lambda_B, 1)\n",
    "area_out = np.pi * r_2 * 2\n",
    "R_3 = 1 / (h * area_out)\n",
    "\n",
    "R = R_1 + R_2 + R_3\n",
    "Phi_l_A = (t - t_amb) / R\n",
    "\n",
    "# 第二种方案，先敷设材料B，再敷设材料A\n",
    "r_1 = find_outer_radius(d/2, v_l_B)\n",
    "r_2 = find_outer_radius(r_1, v_l_A)\n",
    "\n",
    "R_1 = cylindrical_wall_R(d/2, r_1, lambda_B, 1)\n",
    "R_2 = cylindrical_wall_R(r_1, r_2, lambda_A, 1)\n",
    "area_out = np.pi * r_2 * 2\n",
    "R_3 = 1 / (h * area_out)\n",
    "\n",
    "R = R_1 + R_2 + R_3\n",
    "Phi_l_B = (t - t_amb) / R\n",
    "\n",
    "if Phi_l_A < Phi_l2 and Phi_l_B < Phi_l2:\n",
    "    print('两种方案都可行')\n",
    "elif Phi_l_A < Phi_l2:\n",
    "    print('先案敷设材料A，再敷设材料B')\n",
    "elif Phi_l_B < Phi_l2:\n",
    "    print('先案敷设材料B，再敷设材料A')\n",
    "else:\n",
    "    print('两种方案都不可行')"
   ],
   "metadata": {
    "collapsed": false,
    "pycharm": {
     "name": "#%%\n"
    }
   }
  },
  {
   "cell_type": "markdown",
   "source": [
    "## 习题02-20"
   ],
   "metadata": {
    "collapsed": false,
    "pycharm": {
     "name": "#%% md\n"
    }
   }
  },
  {
   "cell_type": "code",
   "execution_count": 20,
   "outputs": [
    {
     "name": "stdout",
     "output_type": "stream",
     "text": [
      "(1) t(x) = (l*t_1 - t_1*x + t_2*x)/l\n",
      "(2) t(x) = (t_1*exp(4*l*sqrt(h/(d*lambda_))) - t_1*exp(4*x*sqrt(h/(d*lambda_))) - t_2*exp(2*l*sqrt(h/(d*lambda_))) + t_2*exp(2*sqrt(h/(d*lambda_))*(l + 2*x)) - t_f*exp(4*l*sqrt(h/(d*lambda_))) + t_f*exp(2*l*sqrt(h/(d*lambda_))) + t_f*exp(4*x*sqrt(h/(d*lambda_))) - t_f*exp(2*x*sqrt(h/(d*lambda_))) - t_f*exp(2*sqrt(h/(d*lambda_))*(l + 2*x)) + t_f*exp(2*sqrt(h/(d*lambda_))*(2*l + x)))*exp(-2*x*sqrt(h/(d*lambda_)))/(exp(4*l*sqrt(h/(d*lambda_))) - 1)\n"
     ]
    }
   ],
   "source": [
    "d, l, t_1, t_2, t_f, lambda_, h = symbols('d, l, t_1, t_2, t_f, lambda_, h')\n",
    "x = symbols('x')\n",
    "t = Function('t')\n",
    "\n",
    "eq1 = diff(t(x), x, 2)\n",
    "result = dsolve(eq1, ics={t(0): t_1, t(l): t_2})\n",
    "t = solve(result, t(x))[0]\n",
    "print(f'(1) t(x) = {t}')\n",
    "\n",
    "t = Function('t')\n",
    "eq2 = diff(t(x), x, 2) - 4 * h / (d * lambda_) * (t(x) - t_f)\n",
    "result = dsolve(eq2, ics={t(0): t_1, t(l): t_2})\n",
    "t = solve(result, t(x))[0]\n",
    "print(f'(2) t(x) = {t}')"
   ],
   "metadata": {
    "collapsed": false,
    "pycharm": {
     "name": "#%%\n"
    }
   }
  },
  {
   "cell_type": "markdown",
   "source": [
    "## 习题02-21"
   ],
   "metadata": {
    "collapsed": false,
    "pycharm": {
     "name": "#%% md\n"
    }
   }
  },
  {
   "cell_type": "code",
   "execution_count": 21,
   "outputs": [
    {
     "name": "stdout",
     "output_type": "stream",
     "text": [
      "t(x) = (t_1*exp(4*l*sqrt(h/(d*lambda_))) - t_1*exp(4*x*sqrt(h/(d*lambda_))) - t_2*exp(2*l*sqrt(h/(d*lambda_))) + t_2*exp(2*sqrt(h/(d*lambda_))*(l + 2*x)) - t_f*exp(4*l*sqrt(h/(d*lambda_))) + t_f*exp(2*l*sqrt(h/(d*lambda_))) + t_f*exp(4*x*sqrt(h/(d*lambda_))) - t_f*exp(2*x*sqrt(h/(d*lambda_))) - t_f*exp(2*sqrt(h/(d*lambda_))*(l + 2*x)) + t_f*exp(2*sqrt(h/(d*lambda_))*(2*l + x)))*exp(-2*x*sqrt(h/(d*lambda_)))/(exp(4*l*sqrt(h/(d*lambda_))) - 1)\n",
      "钢柱体单位时间从两个热源分别获得的热量为:19.47 W 和2.01 W，总计21.48 W。\n"
     ]
    }
   ],
   "source": [
    "d, l, t_1, t_2, t_f, lambda_, h = symbols('d, l, t_1, t_2, t_f, lambda_, h')\n",
    "x = symbols('x')\n",
    "\n",
    "# eq1 = diff(t(x), x, 2)\n",
    "# result = dsolve(eq1, ics={t(0): t_1, t(l): t_2})\n",
    "# t = solve(result, t(x))[0]\n",
    "# print(f'(1) t(x) = {t}')\n",
    "\n",
    "t = Function('t')\n",
    "eq2 = diff(t(x), x, 2) - 4 * h / (d * lambda_) * (t(x) - t_f)\n",
    "result = dsolve(eq2, ics={t(0): t_1, t(l): t_2})\n",
    "t = solve(result, t(x))[0]\n",
    "print(f't(x) = {t}')\n",
    "\n",
    "d = 20e-3\n",
    "l = 300e-3\n",
    "t_1 = 250\n",
    "t_2 = 60\n",
    "t_f = 30\n",
    "\n",
    "h = 10\n",
    "lambda_ = 40\n",
    "\n",
    "area = np.pi * d ** 2 / 4\n",
    "phi = - lambda_ * diff(t, x, 1) * area\n",
    "phi_1 = phi.subs([(symbols('d'), d), (symbols('l'), l), (symbols('t_1'), t_1), (symbols('t_2'), t_2),\n",
    "                  (symbols('t_f'), t_f), (symbols('h'), h), (symbols('lambda_'), lambda_), (symbols('x'), 0)])\n",
    "phi_2 = phi.subs([(symbols('d'), 20e-3), (symbols('l'), l), (symbols('t_1'), t_1), (symbols('t_2'), t_2),\n",
    "                  (symbols('t_f'), 30), (symbols('h'), h), (symbols('lambda_'), lambda_), (symbols('x'), l)])\n",
    "phi_total = phi_1 + phi_2\n",
    "print(f'钢柱体单位时间从两个热源分别获得的热量为:{phi_1:.2f} W 和{phi_2:.2f} W，总计{phi_total:.2f} W。')"
   ],
   "metadata": {
    "collapsed": false,
    "pycharm": {
     "name": "#%%\n"
    }
   }
  },
  {
   "cell_type": "markdown",
   "source": [
    "## 习题02-22"
   ],
   "metadata": {
    "collapsed": false,
    "pycharm": {
     "name": "#%% md\n"
    }
   }
  },
  {
   "cell_type": "code",
   "execution_count": 22,
   "outputs": [
    {
     "name": "stdout",
     "output_type": "stream",
     "text": [
      "上述条件下，液氮每天的蒸发量为：0.19 kg\n"
     ]
    }
   ],
   "source": [
    "d = 300e-3\n",
    "delta = 30e-3\n",
    "lambda_ = 1.8e-4\n",
    "t = -195.6\n",
    "t_a = 25\n",
    "gamma = 199.6e3\n",
    "time = 1*sc.day\n",
    "\n",
    "R = spherical_wall_R(d/2, d/2+delta, lambda_)\n",
    "Phi = (t_a - t) / R\n",
    "m = Phi * time / gamma\n",
    "print(f'上述条件下，液氮每天的蒸发量为：{m:.2f} kg')"
   ],
   "metadata": {
    "collapsed": false,
    "pycharm": {
     "name": "#%%\n"
    }
   }
  },
  {
   "cell_type": "markdown",
   "source": [
    "## 习题02-23"
   ],
   "metadata": {
    "collapsed": false,
    "pycharm": {
     "name": "#%% md\n"
    }
   }
  },
  {
   "cell_type": "code",
   "execution_count": 23,
   "outputs": [
    {
     "name": "stdout",
     "output_type": "stream",
     "text": [
      "10 个球罐所必须配备的制冷设备的容量为：3547.00 W\n"
     ]
    }
   ],
   "source": [
    "d = 2\n",
    "delta = 1e-2\n",
    "t = -40\n",
    "delta_insu = 30e-2\n",
    "lambda_ = 0.08\n",
    "t_a = 40\n",
    "h_insu = 30\n",
    "number = 10\n",
    "\n",
    "r_1 = d/2 + delta   # 认为绝缘层内壁温度等于罐内温度，只分析绝缘层的传热\n",
    "r_2 = d/2 + delta + delta_insu\n",
    "R = spherical_wall_R(r_1, r_2, lambda_)\n",
    "Phi = number * (t_a - t) / R\n",
    "print(f'10 个球罐所必须配备的制冷设备的容量为：{Phi:.2f} W')"
   ],
   "metadata": {
    "collapsed": false,
    "pycharm": {
     "name": "#%%\n"
    }
   }
  },
  {
   "cell_type": "markdown",
   "source": [
    "## 习题02-24"
   ],
   "metadata": {
    "collapsed": false,
    "pycharm": {
     "name": "#%% md\n"
    }
   }
  },
  {
   "cell_type": "code",
   "execution_count": 24,
   "outputs": [
    {
     "name": "stdout",
     "output_type": "stream",
     "text": [
      "lambda = 1.20 W/m-K\n"
     ]
    }
   ],
   "source": [
    "d_i = 0.15\n",
    "d_o = 0.25\n",
    "t_i = 200\n",
    "t_o = 40\n",
    "P = 56.5\n",
    "\n",
    "R = P / (t_i - t_o)\n",
    "guess_value = 1\n",
    "lambda_ = root(lambda lambda_: R - spherical_wall_R(d_i/2, d_o/2, lambda_), guess_value).x[0]\n",
    "print(f'lambda = {lambda_:.2f} W/m-K')"
   ],
   "metadata": {
    "collapsed": false,
    "pycharm": {
     "name": "#%%\n"
    }
   }
  },
  {
   "cell_type": "code",
   "execution_count": 25,
   "outputs": [],
   "source": [
    "## 习题02-25"
   ],
   "metadata": {
    "collapsed": false,
    "pycharm": {
     "name": "#%%\n"
    }
   }
  },
  {
   "cell_type": "code",
   "execution_count": 26,
   "outputs": [
    {
     "name": "stdout",
     "output_type": "stream",
     "text": [
      "球罐的内表面温度为：53.19 C\n",
      "球罐的外表面温度为：30.79 C\n"
     ]
    }
   ],
   "source": [
    "d_i = 0.5\n",
    "d_o = 0.6\n",
    "Phi_dot = 1e5   # W/m^3\n",
    "h = 1000        # W/m^2-K\n",
    "t_f = 25\n",
    "material = '铬镍钢'\n",
    "\n",
    "temperature_list = [-100, 0, 100, 200, 300, 400, 600, 800]\n",
    "lambda_list = [12.2, 14.7, 16.6, 18.0, 19.4, 20.8, 23.5, 26.3]\n",
    "\n",
    "\n",
    "def lambda_(t):\n",
    "    return np.interp(t, temperature_list, lambda_list)\n",
    "\n",
    "\n",
    "V = 4/3 * np.pi * (d_i/2)**3\n",
    "Phi = Phi_dot * V\n",
    "\n",
    "\n",
    "def expressions(p):\n",
    "    t_i, t_o = p\n",
    "    xpr1 = Phi - (t_i - t_o) / spherical_wall_R(d_i/2, d_o/2, lambda_((t_i+t_o)/2))\n",
    "    xpr2 = Phi - h * np.pi * d_o**2 * (t_o - t_f)\n",
    "    return [xpr1, xpr2]\n",
    "\n",
    "\n",
    "guess_values = [t_f + 20, t_f + 10]\n",
    "t_i, t_o = root(expressions, guess_values).x\n",
    "print(f'球罐的内表面温度为：{t_i:.2f} C')\n",
    "print(f'球罐的外表面温度为：{t_o:.2f} C')"
   ],
   "metadata": {
    "collapsed": false,
    "pycharm": {
     "name": "#%%\n"
    }
   }
  },
  {
   "cell_type": "markdown",
   "source": [
    "## 习题02-26"
   ],
   "metadata": {
    "collapsed": false,
    "pycharm": {
     "name": "#%% md\n"
    }
   }
  },
  {
   "cell_type": "code",
   "execution_count": 27,
   "outputs": [
    {
     "name": "stdout",
     "output_type": "stream",
     "text": [
      "所需的电加热器的功率为：5198.15 W\n"
     ]
    }
   ],
   "source": [
    "delta = 20e-2\n",
    "lambda_ = 1.5\n",
    "\n",
    "T_i = 400\n",
    "t_f = 25\n",
    "h = 10\n",
    "r_o = 0.5\n",
    "l = 2.0\n",
    "\n",
    "t_i = sc.convert_temperature(T_i, 'K', 'C')\n",
    "\n",
    "# 可将导热热阻开成球壳热阻和圆柱壳热阻的并联\n",
    "# 圆柱壳热阻\n",
    "R_c = cylindrical_wall_R(r_o - delta, r_o, lambda_, l)\n",
    "# 球壳热阻\n",
    "R_s = spherical_wall_R(r_o - delta, r_o, lambda_)\n",
    "\n",
    "R = 1 / (1 / R_c + 1 / R_s)\n",
    "Phi = (t_i - t_f) / R\n",
    "print(f'所需的电加热器的功率为：{Phi:.2f} W')"
   ],
   "metadata": {
    "collapsed": false,
    "pycharm": {
     "name": "#%%\n"
    }
   }
  },
  {
   "cell_type": "markdown",
   "source": [
    "## 习题02-27"
   ],
   "metadata": {
    "collapsed": false,
    "pycharm": {
     "name": "#%% md\n"
    }
   }
  },
  {
   "cell_type": "code",
   "execution_count": 28,
   "outputs": [
    {
     "name": "stdout",
     "output_type": "stream",
     "text": [
      "Phi = 0.036 W\n",
      "Phi_p = 0.046 W\n"
     ]
    }
   ],
   "source": [
    "r_1 = 10e-3\n",
    "r_2 = 12.5e-3\n",
    "r_3 = 16.3e-3\n",
    "t_fi = 37\n",
    "t_fo = 20\n",
    "h_i = 12\n",
    "h_o = 6\n",
    "lambda_1 = 0.35\n",
    "lambda_2 = 0.8\n",
    "ratio = 1/3\n",
    "\n",
    "area_1 = ratio * 4 * np.pi * r_1**2\n",
    "area_2 = ratio * 4 * np.pi * r_2**2\n",
    "area_3 = ratio * 4 * np.pi * r_3**2\n",
    "\n",
    "R_i = 1 / (h_i * area_1)\n",
    "# 由于球面可看做各部分热阻并联组成，所以热阻等于球壳的热阻除以ratio\n",
    "R_1 = spherical_wall_R(r_1, r_2, lambda_1) / ratio\n",
    "R_2 = spherical_wall_R(r_2, r_3, lambda_2) / ratio\n",
    "R_o = 1 / (h_o * area_2)\n",
    "R_o_p = 1 / (h_o * area_3)\n",
    "\n",
    "R_total = R_i + R_1 + R_o\n",
    "R_total_p = R_i + R_1 + R_2 + R_o_p\n",
    "\n",
    "Phi = (t_fi - t_fo) / R_total\n",
    "Phi_p = (t_fi - t_fo) / R_total_p\n",
    "\n",
    "print(f'Phi = {Phi:.3f} W')\n",
    "print(f'Phi_p = {Phi_p:.3f} W')"
   ],
   "metadata": {
    "collapsed": false,
    "pycharm": {
     "name": "#%%\n"
    }
   }
  },
  {
   "cell_type": "markdown",
   "source": [
    "## 习题02-28"
   ],
   "metadata": {
    "collapsed": false,
    "pycharm": {
     "name": "#%% md\n"
    }
   }
  },
  {
   "cell_type": "code",
   "execution_count": 29,
   "outputs": [
    {
     "name": "stdout",
     "output_type": "stream",
     "text": [
      "结冰的冰软木保温层的厚度为：0.301 m\n"
     ]
    }
   ],
   "source": [
    "d = 1.22\n",
    "delta = 0.45\n",
    "lambda_ = 0.043\n",
    "t_i = -62.2\n",
    "t_o = 18\n",
    "h_i = 1050\n",
    "h_o = 21\n",
    "\n",
    "#   做出以下假设：\n",
    "#   1. 结冰的软木保温层由含水层和干软木保温层组成\n",
    "#   2. 含水层的导热系数取冰的导热系数\n",
    "#   3. 干软木保温层的导热系数取软木的导热系数\n",
    "#   4. 含水（冰）软木保温层的厚度与之前相同\n",
    "\n",
    "\n",
    "def expressions(p):\n",
    "    delta_ice = p[0]\n",
    "    r_1 = d / 2\n",
    "    r_2 = d / 2 + delta_ice # delta_ice <= delta\n",
    "    r_3 = d / 2 + delta\n",
    "\n",
    "    area_i = 4 * np.pi * r_1**2\n",
    "    area_o = 4 * np.pi * r_3**2\n",
    "\n",
    "    R_i = 1 / (h_i * area_i)\n",
    "    R_ice = spherical_wall_R(r_1, r_2, lambda_)\n",
    "    R_wood = spherical_wall_R(r_2, r_3, lambda_)\n",
    "    R_o = 1 / (h_o * area_o)\n",
    "\n",
    "    R = R_i + R_ice + R_wood + R_o\n",
    "    Phi = (t_o - t_i) / R\n",
    "    t_2 = 0\n",
    "    xpr = Phi - (t_o - t_2)/(R_wood + R_o)\n",
    "    return xpr\n",
    "\n",
    "\n",
    "guess_value = delta/2\n",
    "delta_ice = root(expressions, guess_value).x[0]\n",
    "print(f'结冰的冰软木保温层的厚度为：{delta_ice:.3f} m')"
   ],
   "metadata": {
    "collapsed": false,
    "pycharm": {
     "name": "#%%\n"
    }
   }
  },
  {
   "cell_type": "markdown",
   "source": [
    "## 习题02-29"
   ],
   "metadata": {
    "collapsed": false,
    "pycharm": {
     "name": "#%% md\n"
    }
   }
  },
  {
   "cell_type": "code",
   "execution_count": 30,
   "outputs": [
    {
     "name": "stdout",
     "output_type": "stream",
     "text": [
      "t = 51.53 C\n"
     ]
    }
   ],
   "source": [
    "r = 0.1e-3\n",
    "t_oo = 25\n",
    "lambda_ = 120\n",
    "Phi = 4\n",
    "\n",
    "R = spherical_wall_R(r, np.inf, lambda_)\n",
    "guess_value = t_oo + 1\n",
    "t = root(lambda t: Phi - (t - t_oo) / R, guess_value).x[0]\n",
    "print(f't = {t:.2f} C')"
   ],
   "metadata": {
    "collapsed": false,
    "pycharm": {
     "name": "#%%\n"
    }
   }
  },
  {
   "cell_type": "markdown",
   "source": [
    "## 习题02-30"
   ],
   "metadata": {
    "collapsed": false,
    "pycharm": {
     "name": "#%% md\n"
    }
   }
  },
  {
   "cell_type": "code",
   "execution_count": 31,
   "outputs": [
    {
     "name": "stdout",
     "output_type": "stream",
     "text": [
      "Phi = 1445.30 W\n"
     ]
    }
   ],
   "source": [
    "height = 30e-2\n",
    "d_1 = 8.2e-2\n",
    "d_2 = 13e-2\n",
    "t_1 = 20\n",
    "t_2 = 520\n",
    "lambda_ = 100\n",
    "\n",
    "A = Function('A')\n",
    "t = symbols('t')\n",
    "Phi = symbols('Phi')\n",
    "y = symbols('y')\n",
    "\n",
    "eq1 = diff(A(y), y, 2)\n",
    "A = solve(dsolve(eq1, ics={A(0): pi/4*d_2**2, A(height): pi/4*d_1**2}), A(y))[0]\n",
    "# Phi = -lambda_*A*diff(t, y)\n",
    "result1 = integrate(-1/(lambda_ * A), (y, 0, height))\n",
    "result2 = integrate(1, (t, t_2, t_1))\n",
    "Phi = result2 / result1\n",
    "print(f'Phi = {Phi:.2f} W')"
   ],
   "metadata": {
    "collapsed": false,
    "pycharm": {
     "name": "#%%\n"
    }
   }
  },
  {
   "cell_type": "markdown",
   "source": [
    "## 习题02-31"
   ],
   "metadata": {
    "collapsed": false,
    "pycharm": {
     "name": "#%% md\n"
    }
   }
  },
  {
   "cell_type": "code",
   "execution_count": 32,
   "outputs": [
    {
     "name": "stdout",
     "output_type": "stream",
     "text": [
      "第3种导热问题热流量排第1\n",
      "第1种导热问题热流量排第2\n",
      "第2种导热问题热流量排第3\n"
     ]
    }
   ],
   "source": [
    "a_list = np.array([0.506, 0.08, 20.24])\n",
    "n_list = np.array([0.5, 0.0, 1.5])\n",
    "x_1 = 25e-3\n",
    "x_2 = 125e-3\n",
    "\n",
    "number = len(a_list)\n",
    "result = np.zeros(number)\n",
    "for i in range(number):\n",
    "    a = a_list[i]\n",
    "    n = n_list[i]\n",
    "\n",
    "    def func(x):\n",
    "        d = a*x**n\n",
    "        area = np.pi / 4 * d**2\n",
    "        return 1/area\n",
    "    result[i] = 1 / quad(func, x_1, x_2)[0]\n",
    "\n",
    "arg = np.argsort(-result)\n",
    "for i in range(number):\n",
    "    print(f'第{arg[i]+1}种导热问题热流量排第{i+1}')"
   ],
   "metadata": {
    "collapsed": false,
    "pycharm": {
     "name": "#%%\n"
    }
   }
  },
  {
   "cell_type": "markdown",
   "source": [
    "## 习题02-32"
   ],
   "metadata": {
    "collapsed": false,
    "pycharm": {
     "name": "#%% md\n"
    }
   }
  },
  {
   "cell_type": "code",
   "execution_count": 33,
   "outputs": [
    {
     "name": "stdout",
     "output_type": "stream",
     "text": [
      "lambda = 5.06\n",
      "lambda_0 = 5.05555555555556*(2.0*t**2 - 8825.0)/((t - 85.0)*(t - 40.0))\n",
      "b = -2.0*(2.0*t - 125.0)/(2.0*t**2 - 8825.0)\n"
     ]
    }
   ],
   "source": [
    "delta = 25e-3\n",
    "t_1 = 40\n",
    "t_2 = 85\n",
    "phi = 1.82e3\n",
    "area = 0.2\n",
    "\n",
    "lambda_ = phi * delta / (area * (t_2 - t_1))\n",
    "print(f'lambda = {lambda_:.2f}')\n",
    "\n",
    "# 如果已知平板中间的温度t，则可以得到lmbda的公式\n",
    "\n",
    "lambda_1 = phi * delta / (area * (t - t_1))\n",
    "lambda_2 = phi * delta / (area * (t_2 - t))\n",
    "\n",
    "lambda_0, b = symbols('lambda_0 b')\n",
    "\n",
    "result = solve([lambda_1 - lambda_0 * (1 + b*(t+t_1)/2), lambda_2 - lambda_0 * (1 + b*(t+t_2)/2)], lambda_0, b)\n",
    "print(f'lambda_0 = {result[0][0]}')\n",
    "print(f'b = {result[0][1]}')"
   ],
   "metadata": {
    "collapsed": false,
    "pycharm": {
     "name": "#%%\n"
    }
   }
  },
  {
   "cell_type": "markdown",
   "source": [
    "## 习题02-36"
   ],
   "metadata": {
    "collapsed": false,
    "pycharm": {
     "name": "#%% md\n"
    }
   }
  },
  {
   "cell_type": "code",
   "execution_count": 34,
   "outputs": [
    {
     "name": "stdout",
     "output_type": "stream",
     "text": [
      "lambda_0 = 0.917 W/m-K\n",
      "b = -9.091e-03 K^-1\n"
     ]
    }
   ],
   "source": [
    "q = 1000\n",
    "delta = 20e-3\n",
    "x_list = np.array([0, 10e-3, 20e-3])\n",
    "t_list = np.array([100, 60, 40])\n",
    "\n",
    "\n",
    "# lambda_ = lambda_0 * (1 + b*t)\n",
    "\n",
    "\n",
    "def lambda_(delta, delta_t):\n",
    "    return -q * delta / delta_t\n",
    "\n",
    "\n",
    "def expressions(p):\n",
    "    lambda_0, b = p\n",
    "\n",
    "    def lambda_b(t):\n",
    "        return lambda_0 * (1 + b * t)\n",
    "\n",
    "    delta_1 = x_list[1] - x_list[0]\n",
    "    delta_2 = x_list[2] - x_list[1]\n",
    "    delta_t_1 = t_list[1] - t_list[0]\n",
    "    delta_t_2 = t_list[2] - t_list[1]\n",
    "    t_average_1 = (t_list[1] + t_list[0]) / 2\n",
    "    t_average_2 = (t_list[2] + t_list[1]) / 2\n",
    "    xpr1 = lambda_(delta_1, delta_t_1) - lambda_b(t_average_1)\n",
    "    xpr2 = lambda_(delta_2, delta_t_2) - lambda_b(t_average_2)\n",
    "    return xpr1, xpr2\n",
    "\n",
    "\n",
    "guess_values = [1, 1]\n",
    "lambda_0, b = root(expressions, guess_values).x\n",
    "print(f'lambda_0 = {lambda_0:.3f} W/m-K')\n",
    "print(f'b = {b:.3e} K^-1')"
   ],
   "metadata": {
    "collapsed": false,
    "pycharm": {
     "name": "#%%\n"
    }
   }
  },
  {
   "cell_type": "markdown",
   "source": [
    "## 习题02-41"
   ],
   "metadata": {
    "collapsed": false,
    "pycharm": {
     "name": "#%% md\n"
    }
   }
  },
  {
   "cell_type": "code",
   "execution_count": 35,
   "outputs": [
    {
     "name": "stdout",
     "output_type": "stream",
     "text": [
      "最大热功率为：77875.46 W\n"
     ]
    }
   ],
   "source": [
    "t_max = 1600\n",
    "t_water = 110\n",
    "h = 12000\n",
    "R_c = 2.2e-4    # m^2-K/W\n",
    "r_1 = 6.1e-3\n",
    "r_2 = 6.5e-3\n",
    "lambda_ = 7.9\n",
    "lambda_alloy = 14.2\n",
    "\n",
    "\n",
    "def expressions(p):\n",
    "    phi = p\n",
    "    q_dot = phi / (np.pi * r_1**2)\n",
    "    t_w = t_max - cylinder_Delta_T_with_heat_source(r_1, lambda_, q_dot)\n",
    "    R_w = cylindrical_wall_R(r_1, r_2, lambda_, 1)\n",
    "    R_conv = 1 / (h * 2*np.pi*r_2)\n",
    "    R = R_c / (2*np.pi*r_1) + R_w + R_conv  # R_c的单位表明其需要除以接触面积\n",
    "    xpr = phi - (t_w - t_water) / R\n",
    "    return xpr\n",
    "\n",
    "\n",
    "guess_values = 1e6\n",
    "phi = root(expressions, guess_values).x[0]\n",
    "print(f'最大热功率为：{phi:.2f} W')"
   ],
   "metadata": {
    "collapsed": false,
    "pycharm": {
     "name": "#%%\n"
    }
   }
  },
  {
   "cell_type": "markdown",
   "source": [
    "## 习题02-46"
   ],
   "metadata": {
    "collapsed": false,
    "pycharm": {
     "name": "#%% md\n"
    }
   }
  },
  {
   "cell_type": "code",
   "execution_count": 36,
   "outputs": [
    {
     "name": "stdout",
     "output_type": "stream",
     "text": [
      "t_max = 117.50 C\n"
     ]
    }
   ],
   "source": [
    "# 绝热表面可以看做对称面\n",
    "delta = 7e-2\n",
    "t_f = 30\n",
    "q_dot = 0.3e6\n",
    "h = 450\n",
    "lambda_ = 18\n",
    "\n",
    "Delta_T = plate_wall_Delta_T_with_heat_source(2*delta, lambda_, h, q_dot)\n",
    "t_max = t_f + Delta_T\n",
    "print(f't_max = {t_max:.2f} C')"
   ],
   "metadata": {
    "collapsed": false,
    "pycharm": {
     "name": "#%%\n"
    }
   }
  },
  {
   "cell_type": "markdown",
   "source": [
    "## 习题02-50"
   ],
   "metadata": {
    "collapsed": false,
    "pycharm": {
     "name": "#%% md\n"
    }
   }
  },
  {
   "cell_type": "code",
   "execution_count": 37,
   "outputs": [
    {
     "name": "stdout",
     "output_type": "stream",
     "text": [
      "(1) eta = 92.43%\n",
      "(2) eta = 60.33%\n"
     ]
    }
   ],
   "source": [
    "lambda_ = np.array([208, 41.5])\n",
    "h = np.array([284, 511])\n",
    "H = np.array([15.24e-3, 15.24e-3])\n",
    "delta = np.array([2.54e-3, 2.54e-3])\n",
    "\n",
    "perimeter = 2\n",
    "A_c = delta\n",
    "efficiency = fin_tip_efficiency(H, perimeter, A_c, lambda_, h)\n",
    "# 也可以用fin_tip_efficiency2函数求解\n",
    "# A_L = delta * H\n",
    "# efficiency2 = fin_tip_efficiency2(H, A_L, lambda_, h)\n",
    "np.set_printoptions(formatter={'float': '{:.2%}'.format})\n",
    "for i, eta in enumerate(efficiency):\n",
    "    print(f'({i+1}) eta = {eta:.2%}')"
   ],
   "metadata": {
    "collapsed": false,
    "pycharm": {
     "name": "#%%\n"
    }
   }
  },
  {
   "cell_type": "markdown",
   "source": [
    "## 习题02-51"
   ],
   "metadata": {
    "collapsed": false,
    "pycharm": {
     "name": "#%% md\n"
    }
   }
  },
  {
   "cell_type": "code",
   "execution_count": 38,
   "outputs": [
    {
     "name": "stdout",
     "output_type": "stream",
     "text": [
      "Phi2 = 39.74 W\n",
      "Phi2 = 65.12 W\n"
     ]
    }
   ],
   "source": [
    "material = 'Al'\n",
    "t_w = 260\n",
    "d = 25e-3\n",
    "H = 150e-3\n",
    "t_1 = 16\n",
    "h = 15\n",
    "\n",
    "perimeter = np.pi * d\n",
    "A_c = np.pi * d**2 / 4\n",
    "lambda_ = 208   # 采用上一题给出Al的导热系数\n",
    "\n",
    "R = fin_tip_R(H, perimeter, A_c, lambda_, h)\n",
    "Phi = (t_w - t_1) / R\n",
    "print(f'Phi2 = {Phi:.2f} W')\n",
    "\n",
    "H_2 = 2*H\n",
    "R_2 = fin_tip_R(H_2, perimeter, A_c, lambda_, h)\n",
    "Phi_2 = (t_w - t_1) / R_2\n",
    "print(f'Phi2 = {Phi_2:.2f} W')"
   ],
   "metadata": {
    "collapsed": false,
    "pycharm": {
     "name": "#%%\n"
    }
   }
  },
  {
   "cell_type": "markdown",
   "source": [
    "## 习题02-52"
   ],
   "metadata": {
    "collapsed": false,
    "pycharm": {
     "name": "#%% md\n"
    }
   }
  },
  {
   "cell_type": "code",
   "execution_count": 39,
   "outputs": [
    {
     "name": "stdout",
     "output_type": "stream",
     "text": [
      "mH = 0.4474091316149847\n",
      "总散热量为：4541.22 W\n"
     ]
    }
   ],
   "source": [
    "material = 'Al'\n",
    "d = 25e-3\n",
    "s = 9.5e-3\n",
    "H = 12.5e-3\n",
    "delta = 0.8e-3\n",
    "t_w = 200\n",
    "t_f = 90\n",
    "h = 110\n",
    "lambda_ = 208   # 参考题2-50取值\n",
    "length = 1\n",
    "\n",
    "H_p = H + delta/2\n",
    "A_L = H_p * delta\n",
    "fin_efficiency = fin_tip_efficiency2(H, A_L, lambda_, h)\n",
    "fin_area = 2 * np.pi * ((d/2+H_p)**2 - (d/2)**2)\n",
    "Phi_fin = fin_efficiency * h * fin_area * (t_w - t_f)\n",
    "base_area = np.pi * d * (s - delta)\n",
    "Phi_base = h * base_area * (t_w - t_f)\n",
    "number = length / s\n",
    "Phi = number * (Phi_fin + Phi_base)\n",
    "\n",
    "print(f'总散热量为：{Phi:.2f} W')\n",
    "\n",
    "# 也可以采用overall_fin_surface_efficiency函数求解\n",
    "# eta = overall_fin_surface_efficiency(fin_area, base_area, fin_efficiency)\n",
    "# Phi = eta * h * (fin_area + base_area) * (t_w - t_f) * number\n",
    "# print(f'总散热量为：{Phi:.2f} W')"
   ],
   "metadata": {
    "collapsed": false,
    "pycharm": {
     "name": "#%%\n"
    }
   }
  },
  {
   "cell_type": "markdown",
   "source": [
    "## 习题02-53"
   ],
   "metadata": {
    "collapsed": false,
    "pycharm": {
     "name": "#%% md\n"
    }
   }
  },
  {
   "cell_type": "code",
   "execution_count": 40,
   "outputs": [
    {
     "name": "stdout",
     "output_type": "stream",
     "text": [
      "套管应有的长度为：0.123 m\n"
     ]
    }
   ],
   "source": [
    "D = 127e-3\n",
    "d = 15e-3\n",
    "delta = 0.9e-3\n",
    "lambda_ = 49.1\n",
    "h = 105\n",
    "Delta_T_ratio = 0.6e-2\n",
    "\n",
    "perimeter = np.pi * d\n",
    "A_c = np.pi * (d/2 + delta)**2 - np.pi * (d/2)**2\n",
    "\n",
    "guess_value = 0.1\n",
    "H = root(lambda H: Delta_T_ratio - fin_tip_Delta_T_ratio(H, perimeter, A_c, lambda_, h), guess_value).x[0]\n",
    "print(f'套管应有的长度为：{H:.3f} m')"
   ],
   "metadata": {
    "collapsed": false,
    "pycharm": {
     "name": "#%%\n"
    }
   }
  },
  {
   "cell_type": "markdown",
   "source": [
    "## 习题02-54"
   ],
   "metadata": {
    "collapsed": false,
    "pycharm": {
     "name": "#%% md\n"
    }
   }
  },
  {
   "cell_type": "code",
   "execution_count": 41,
   "outputs": [
    {
     "name": "stdout",
     "output_type": "stream",
     "text": [
      "(1) Delta_T = 31.04 C\n",
      "(2) Delta_T = 6.93 C\n",
      "两温度计读数相差24.11 C\n"
     ]
    }
   ],
   "source": [
    "d = 10e-3\n",
    "delta = 1.0e-3\n",
    "H = 120e-3\n",
    "h = 25\n",
    "t_0 = 25\n",
    "t_f = 70\n",
    "lambda_ = [390, 50]\n",
    "\n",
    "perimeter = np.pi * d\n",
    "A_c = np.pi * (d/2 + delta)**2 - np.pi * (d/2)**2\n",
    "Delta_T = np.zeros(2)\n",
    "\n",
    "for i, lambda_i in enumerate(lambda_):\n",
    "    Delta_T_ratio = fin_tip_Delta_T_ratio(H, perimeter, A_c, lambda_i, h)\n",
    "    Delta_T[i] = Delta_T_ratio * (t_f - t_0)\n",
    "    print(f'({i+1}) Delta_T = {Delta_T[i]:.2f} C')\n",
    "\n",
    "delta_T12 = Delta_T[0] - Delta_T[1]\n",
    "print(f'两温度计读数相差{abs(delta_T12):.2f} C')"
   ],
   "metadata": {
    "collapsed": false,
    "pycharm": {
     "name": "#%%\n"
    }
   }
  },
  {
   "cell_type": "markdown",
   "source": [
    "## 习题02-55"
   ],
   "metadata": {
    "collapsed": false,
    "pycharm": {
     "name": "#%% md\n"
    }
   }
  },
  {
   "cell_type": "code",
   "execution_count": 42,
   "outputs": [
    {
     "name": "stdout",
     "output_type": "stream",
     "text": [
      "该柱体中间截面上的平均温度为392.71 C\n",
      "该柱体的最高温度温度为548.98 C\n",
      "冷却介质带走的热量为为65.74 W\n"
     ]
    }
   ],
   "source": [
    "H = 9e-2\n",
    "perimeter = 7.6e-2\n",
    "A_c = 1.95e-4\n",
    "t_0 = 305\n",
    "t_f = 815\n",
    "h = 28\n",
    "lambda_ = 55\n",
    "\n",
    "y = H/2\n",
    "\n",
    "Delta_T_ratio_y = fin_tip_Delta_T_ratio(y, perimeter, A_c, lambda_, h)\n",
    "t_y = t_f - Delta_T_ratio_y*(t_f - t_0)\n",
    "print(f'该柱体中间截面上的平均温度为{t_y:.2f} C')\n",
    "\n",
    "Delta_T_ratio_H = fin_tip_Delta_T_ratio(H, perimeter, A_c, lambda_, h)\n",
    "t_H = t_f - Delta_T_ratio_H*(t_f - t_0)\n",
    "print(f'该柱体的最高温度温度为{t_H:.2f} C')\n",
    "\n",
    "efficiency = fin_tip_efficiency(H, perimeter, A_c, lambda_, h)\n",
    "Phi = efficiency * h * perimeter * H * (t_f - t_0)\n",
    "print(f'冷却介质带走的热量为为{Phi:.2f} W')"
   ],
   "metadata": {
    "collapsed": false,
    "pycharm": {
     "name": "#%%\n"
    }
   }
  },
  {
   "cell_type": "markdown",
   "source": [
    "## 习题02-56"
   ],
   "metadata": {
    "collapsed": false,
    "pycharm": {
     "name": "#%% md\n"
    }
   }
  },
  {
   "cell_type": "code",
   "execution_count": 43,
   "outputs": [
    {
     "name": "stdout",
     "output_type": "stream",
     "text": [
      "手柄的散热量为2.88 W\n",
      "手柄的最低温度为24.85 C\n",
      "手柄的导热系数越大，散热量越大，手柄每一截面处的温度也越均匀。\n"
     ]
    }
   ],
   "source": [
    "d = 25e-3\n",
    "theta = np.pi\n",
    "R = 75e-3\n",
    "t_w = 80\n",
    "t_f = 20\n",
    "h = 10\n",
    "lambda_ = 1.5\n",
    "\n",
    "R_p = R - d/2\n",
    "H = theta * R_p / 2\n",
    "r = d/2\n",
    "A_c = np.pi * r**2\n",
    "perimeter = np.pi * d\n",
    "\n",
    "R = fin_tip_R(H, perimeter, A_c, lambda_, h)\n",
    "Phi = 2 * (t_w - t_f) / R\n",
    "print(f'手柄的散热量为{Phi:.2f} W')\n",
    "\n",
    "eta = fin_tip_efficiency(H, perimeter, A_c, lambda_, h)\n",
    "Delta_T_ratio = fin_tip_Delta_T_ratio(H, perimeter, A_c, lambda_, h)\n",
    "t_min = t_f + Delta_T_ratio * (t_w - t_f)\n",
    "print(f'手柄的最低温度为{t_min:.2f} C')\n",
    "print(f'手柄的导热系数越大，散热量越大，手柄每一截面处的温度也越均匀。')"
   ],
   "metadata": {
    "collapsed": false,
    "pycharm": {
     "name": "#%%\n"
    }
   }
  },
  {
   "cell_type": "markdown",
   "source": [
    "## 习题02-57"
   ],
   "metadata": {
    "collapsed": false,
    "pycharm": {
     "name": "#%% md\n"
    }
   }
  },
  {
   "cell_type": "code",
   "execution_count": 44,
   "outputs": [
    {
     "name": "stdout",
     "output_type": "stream",
     "text": [
      "mH = 0.3606193232430791\n",
      "增加了肋片后汽缸散热量是原来的8.81倍\n"
     ]
    }
   ],
   "source": [
    "Diameter = 60e-3\n",
    "Height = 170e-3\n",
    "lambda_ = 180\n",
    "number = 10\n",
    "delta = 3e-3\n",
    "H = 25e-3\n",
    "h = 50\n",
    "t_f = 28\n",
    "t_w = 220\n",
    "\n",
    "Phi_0 = h * np.pi * Diameter * Height * (t_w - t_f)\n",
    "H_p = H + delta/2\n",
    "A_L = H_p * delta\n",
    "efficiency = fin_tip_efficiency2(H_p, A_L, lambda_, h)\n",
    "fin_tip_area = 2 * np.pi * ((Diameter/2 + H)**2 - (Diameter/2)**2)\n",
    "Phi_tip = number * efficiency * h * 2 * fin_tip_area *(t_w - t_f)\n",
    "Phi_base = h * np.pi * Diameter * (Height - number * delta) * (t_w - t_f)\n",
    "Phi_1 = Phi_tip + Phi_base\n",
    "times = Phi_1/ Phi_0\n",
    "print(f'增加了肋片后汽缸散热量是原来的{times:.2f}倍')"
   ],
   "metadata": {
    "collapsed": false,
    "pycharm": {
     "name": "#%%\n"
    }
   }
  },
  {
   "cell_type": "markdown",
   "source": [
    "## 习题02-58"
   ],
   "metadata": {
    "collapsed": false,
    "pycharm": {
     "name": "#%% md\n"
    }
   }
  },
  {
   "cell_type": "code",
   "execution_count": 45,
   "outputs": [
    {
     "data": {
      "text/plain": "<Figure size 432x288 with 1 Axes>",
      "image/png": "[encoded data removed]"
     },
     "metadata": {
      "needs_background": "light"
     },
     "output_type": "display_data"
    },
    {
     "name": "stdout",
     "output_type": "stream",
     "text": [
      "最大温度为63.77 C\n"
     ]
    }
   ],
   "source": [
    "lambda_ = 177\n",
    "delta = 6e-3\n",
    "L = 200e-3\n",
    "I = 800 # W/m^2\n",
    "t_water = 60\n",
    "\n",
    "# 将问题看成厚度为 2*delta，高度为 L/2 的等截面直肋的换热分析，该换热为等热流密度换热\n",
    "# 对厚度为dx的截面微元块分析，可知微分公式为：-lambda_ * delta * t''(x) = I\n",
    "\n",
    "# 试试用scipy的bvp工具求解常微分方程\n",
    "# 记y = t'(x)\n",
    "# 定义t的导数函数，返回其1阶导数和2阶导数\n",
    "N = 100\n",
    "\n",
    "\n",
    "def derivative(x, t):\n",
    "    return np.vstack((t[1], - I / (lambda_ * delta) * np.ones(len(t[1]))))\n",
    "\n",
    "\n",
    "# 定义边界条件，t(0) = t_water, t'(L/2) = 0\n",
    "# 边界条件函数的t_a和t_b参数为边界条件的起始和终止点\n",
    "def bc(t_a, t_b):\n",
    "    return np.array([t_a[0] - t_water, t_b[1]])\n",
    "\n",
    "\n",
    "x = np.linspace(0, L/2, N)\n",
    "t = np.zeros((2, x.size))\n",
    "t[0, 0] = t_water\n",
    "result = solve_bvp(derivative, bc, x, t)\n",
    "\n",
    "x_plot = np.linspace(0, L/2, N)\n",
    "t_plot = result.sol(x_plot)[0]\n",
    "plt.plot(x_plot, t_plot)\n",
    "plt.grid()\n",
    "plt.xlabel('x(m)')\n",
    "plt.ylabel('t(°C)')\n",
    "plt.show()\n",
    "print(f'最大温度为{t_plot[-1]:.2f} C')"
   ],
   "metadata": {
    "collapsed": false,
    "pycharm": {
     "name": "#%%\n"
    }
   }
  },
  {
   "cell_type": "markdown",
   "source": [
    "## 习题02-59"
   ],
   "metadata": {
    "collapsed": false,
    "pycharm": {
     "name": "#%% md\n"
    }
   }
  },
  {
   "cell_type": "code",
   "execution_count": 46,
   "outputs": [
    {
     "name": "stdout",
     "output_type": "stream",
     "text": [
      "mH = 0.2694301256218253\n",
      "Phi = 248.46 W\n"
     ]
    }
   ],
   "source": [
    "delta = 15e-3\n",
    "d_i = 120e-3\n",
    "d_o = 140e-3\n",
    "d_f = 250e-3\n",
    "lambda_ = 45\n",
    "t_i = 300\n",
    "t_f = 20\n",
    "h = 10\n",
    "\n",
    "H_p = (d_f - d_o)/2 + delta\n",
    "A_L = 2 * H_p * delta\n",
    "efficiency = fin_tip_efficiency2(H_p, A_L, lambda_, h)\n",
    "r_1 = d_o / 2\n",
    "r_2 = d_o / 2 + H_p\n",
    "area = 2 * np.pi * (r_2**2 - r_1**2)\n",
    "\n",
    "R_tube = cylindrical_wall_R(d_i/2, d_o/2, lambda_, 2*delta)\n",
    "\n",
    "\n",
    "def expressions(p):\n",
    "    # 传热热阻可以看成管道导热热阻和法兰对热传热热阻的串联，流经管道和法兰的热流量相等\n",
    "    Phi, t_o = p\n",
    "    xpr1 = Phi - efficiency * h * area * (t_o - t_f)\n",
    "    xpr2 = Phi - (t_i - t_o) / R_tube\n",
    "    return xpr1, xpr2\n",
    "\n",
    "\n",
    "guess_values = [1, t_i - 10]\n",
    "Phi, t_o = root(expressions, guess_values).x\n",
    "print(f'Phi = {Phi:.2f} W')"
   ],
   "metadata": {
    "collapsed": false,
    "pycharm": {
     "name": "#%%\n"
    }
   }
  },
  {
   "cell_type": "markdown",
   "source": [
    "## 习题02-60"
   ],
   "metadata": {
    "collapsed": false,
    "pycharm": {
     "name": "#%% md\n"
    }
   }
  },
  {
   "cell_type": "code",
   "execution_count": 47,
   "outputs": [
    {
     "name": "stdout",
     "output_type": "stream",
     "text": [
      "每片肋片的热阻为：12.44 W/K\n"
     ]
    }
   ],
   "source": [
    "L = 8e-3\n",
    "# t_0 = t_L\n",
    "h = 100\n",
    "lambda_ = 200\n",
    "delta = 1e-3\n",
    "a = 100e-3\n",
    "b = 200e-3\n",
    "c = 14e-3\n",
    "\n",
    "H = L / 2\n",
    "perimeter = 2 *(a + delta)\n",
    "A_c = a * delta\n",
    "R = fin_tip_R(H, perimeter, A_c, lambda_, h)\n",
    "print(f'每片肋片的热阻为：{R:.2f} W/K')"
   ],
   "metadata": {
    "collapsed": false,
    "pycharm": {
     "name": "#%%\n"
    }
   }
  },
  {
   "cell_type": "markdown",
   "source": [
    "## 习题02-63"
   ],
   "metadata": {
    "collapsed": false,
    "pycharm": {
     "name": "#%% md\n"
    }
   }
  },
  {
   "cell_type": "code",
   "execution_count": 48,
   "outputs": [
    {
     "name": "stdout",
     "output_type": "stream",
     "text": [
      "每米长烟道上的散热量为：673.10 W\n"
     ]
    }
   ],
   "source": [
    "t_1 = 80\n",
    "t_2 = 25\n",
    "lambda_ = 1.5\n",
    "length = 1\n",
    "\n",
    "l = 1\n",
    "d = 0.5\n",
    "\n",
    "S = 2 * np.pi * length / (np.log(1.08 * l / d))\n",
    "Phi = S * lambda_ * (t_1 - t_2)\n",
    "print(f'每米长烟道上的散热量为：{Phi:.2f} W')"
   ],
   "metadata": {
    "collapsed": false,
    "pycharm": {
     "name": "#%%\n"
    }
   }
  },
  {
   "cell_type": "markdown",
   "source": [
    "## 习题02-65"
   ],
   "metadata": {
    "collapsed": false,
    "pycharm": {
     "name": "#%% md\n"
    }
   }
  },
  {
   "cell_type": "code",
   "execution_count": 49,
   "outputs": [
    {
     "name": "stdout",
     "output_type": "stream",
     "text": [
      "热损失为：12.60 W\n"
     ]
    }
   ],
   "source": [
    "delta = 300e-3\n",
    "lambda_ = 0.8\n",
    "t_i= 400\n",
    "t_o= 50\n",
    "\n",
    "S = 0.15 * delta\n",
    "Phi = lambda_ * S * (t_i - t_o)\n",
    "print(f'热损失为：{Phi:.2f} W')"
   ],
   "metadata": {
    "collapsed": false,
    "pycharm": {
     "name": "#%%\n"
    }
   }
  },
  {
   "cell_type": "markdown",
   "source": [
    "## 习题02-66"
   ],
   "metadata": {
    "collapsed": false,
    "pycharm": {
     "name": "#%% md\n"
    }
   }
  },
  {
   "cell_type": "code",
   "execution_count": 50,
   "outputs": [
    {
     "name": "stdout",
     "output_type": "stream",
     "text": [
      "每米管道的散热量为： 7.91 W\n",
      "结冰后，每米管道的散热量为： 9.06 W\n"
     ]
    }
   ],
   "source": [
    "H_1 = 3\n",
    "H_2 = 2\n",
    "d = 500e-3\n",
    "lambda_ = 1\n",
    "t_s = 0\n",
    "t_w = 4\n",
    "length = 1\n",
    "\n",
    "if H_1 > 2 * d:\n",
    "    S_1 = 2 * np.pi * length / np.log(4 * H_1/d)\n",
    "else:\n",
    "    print('课本无对应公式')\n",
    "\n",
    "Phi_1 = lambda_ * S_1 * (t_w - t_s)\n",
    "print(f'每米管道的散热量为： {Phi_1:.2f} W')\n",
    "\n",
    "# 结冰后，地下深度为1 m的土壤层的温度跟原来相同，为0摄氏度\n",
    "if H_2 > 2 * d:\n",
    "    S_2 = 2 * np.pi * length / np.log(4 * H_2/d)\n",
    "else:\n",
    "    print('课本无对应公式')\n",
    "\n",
    "Phi_2 = lambda_ * S_2 * (t_w - t_s)\n",
    "print(f'结冰后，每米管道的散热量为： {Phi_2:.2f} W')"
   ],
   "metadata": {
    "collapsed": false,
    "pycharm": {
     "name": "#%%\n"
    }
   }
  },
  {
   "cell_type": "markdown",
   "source": [
    "## 习题02-68"
   ],
   "metadata": {
    "collapsed": false,
    "pycharm": {
     "name": "#%% md\n"
    }
   }
  },
  {
   "cell_type": "code",
   "execution_count": 51,
   "outputs": [
    {
     "name": "stdout",
     "output_type": "stream",
     "text": [
      "delta = 0.031 m\n"
     ]
    }
   ],
   "source": [
    "l_1, l_2, l_3 = 0.5, 0.75, 0.75\n",
    "lambda_ = 0.02\n",
    "t_i = -10\n",
    "t_o = 30\n",
    "Phi = 45\n",
    "\n",
    "\n",
    "def expressions(p):\n",
    "    delta = p\n",
    "    S_corner = 4 * 0.15 * delta\n",
    "\n",
    "    length_1 = l_1 - 2*delta\n",
    "    length_2 = l_2 - 2*delta\n",
    "    length_3 = l_3 - 2*delta\n",
    "    length_total = 4 * length_1 + 2 * (length_2 + length_3)\n",
    "    S_edge = 0.54 * length_total\n",
    "\n",
    "    A_wall_1 = (l_1 - 2 * delta) * (l_2 - 2 * delta)\n",
    "    A_wall_2 = (l_2 - 2 * delta) * (l_3 - 2 * delta)\n",
    "    A_wall_3 = (l_3 - 2 * delta) * (l_1 - 2 * delta)\n",
    "    A_total = 2 * (A_wall_1 + A_wall_3) + A_wall_2\n",
    "    S_wall = A_total / delta\n",
    "\n",
    "    S_total = S_corner + S_edge + S_wall\n",
    "    xpr = Phi - lambda_ * S_total * (t_o - t_i)\n",
    "    return xpr\n",
    "\n",
    "\n",
    "guess_value = np.array([l_1 / 10])\n",
    "delta = root(expressions, guess_value).x[0]\n",
    "print(f'delta = {delta:.3f} m')"
   ],
   "metadata": {
    "collapsed": false,
    "pycharm": {
     "name": "#%%\n"
    }
   }
  },
  {
   "cell_type": "markdown",
   "source": [
    "## 习题02-73"
   ],
   "metadata": {
    "collapsed": false,
    "pycharm": {
     "name": "#%% md\n"
    }
   }
  },
  {
   "cell_type": "code",
   "execution_count": 52,
   "outputs": [
    {
     "name": "stdout",
     "output_type": "stream",
     "text": [
      "芯片的工作温度为：75.34 C\n"
     ]
    }
   ],
   "source": [
    "a = 10e-3\n",
    "b = 10e-3\n",
    "delta_3 = 0.02e-3\n",
    "R_12c = 0.9e-4   # m^2-K/W\n",
    "t_oo = 25\n",
    "h = 150\n",
    "q = 1.5e4   # W/m^2\n",
    "lambda_3 = 236\n",
    "\n",
    "R_1 = 1 / (h * a * b)\n",
    "R_12 = R_12c / (a * b)\n",
    "R_3 = delta_3 / (lambda_3 * a * b)\n",
    "R_34 = 1 / (h * a * b)\n",
    "\n",
    "\n",
    "def expressions(p):\n",
    "    t = p[0]\n",
    "    Phi_1 = (t - t_oo) / R_1\n",
    "    Phi_2 = (t - t_oo) / (R_12 + R_3 + R_34)\n",
    "    xpr = q * a * b - Phi_1 - Phi_2\n",
    "    return xpr\n",
    "\n",
    "\n",
    "guess_values = np.array([t_oo + 10])\n",
    "t = root(expressions, guess_values).x[0]\n",
    "print(f'芯片的工作温度为：{t:.2f} C')"
   ],
   "metadata": {
    "collapsed": false,
    "pycharm": {
     "name": "#%%\n"
    }
   }
  },
  {
   "cell_type": "markdown",
   "source": [
    "## 习题02-74"
   ],
   "metadata": {
    "collapsed": false,
    "pycharm": {
     "name": "#%% md\n"
    }
   }
  },
  {
   "cell_type": "code",
   "execution_count": 53,
   "outputs": [
    {
     "name": "stdout",
     "output_type": "stream",
     "text": [
      "Phi = 5.70 W\n"
     ]
    }
   ],
   "source": [
    "t_i = 20\n",
    "t_o = 5\n",
    "h_i = 7\n",
    "h_o = 28\n",
    "delta_1 = 12e-3\n",
    "lambda_1 = 0.16\n",
    "delta_2 = 25e-3\n",
    "lambda_2u = 0.141\n",
    "l_2u = 75e-3\n",
    "l_2d = 330e-3\n",
    "fluid_2d = 'Air'\n",
    "delta_3 = 200e-3\n",
    "lambda_3 = 0.72\n",
    "\n",
    "\n",
    "def expressions(p):\n",
    "    t_12, t_23, Phi = p\n",
    "    T_12 = sc.convert_temperature(t_12, 'C', 'K')\n",
    "    T_23 = sc.convert_temperature(t_23, 'C', 'K')\n",
    "    lambda_2d = psi('L', 'T', (T_12 + T_23)/2, 'P', sc.atm, fluid_2d)\n",
    "\n",
    "    height = l_2u + l_2d\n",
    "    area = height # 单位长度面积\n",
    "    R_i = 1 / (h_i * area)\n",
    "    R_1 = delta_1 / (lambda_1 * area)\n",
    "    R_2u = delta_2 / (lambda_2u * l_2u)\n",
    "    R_2d = delta_2 / (lambda_2d * l_2d)\n",
    "    R_2 = 1 / (1/R_2u + 1/R_2d)\n",
    "    R_3 = delta_3 / (lambda_3 * area)\n",
    "    R_o = 1 / (h_o * area)\n",
    "\n",
    "    R_total = R_i + R_1 + R_2 + R_3 + R_o\n",
    "    # print(R_i*area, R_1*area, R_2*area, R_3*area, R_o*area, R_total*area)\n",
    "    xpr1 = Phi - (t_i - t_o) / R_total\n",
    "    xpr2 = t_i - t_12 - Phi * (R_i + R_1)\n",
    "    xpr3 = t_i - t_23 - Phi * (R_i + R_1 + R_2)\n",
    "    return [xpr1, xpr2, xpr3]\n",
    "\n",
    "\n",
    "guess_values = [t_i - 1, t_i - 2, 1]\n",
    "t_1, t_2, Phi = root(expressions, guess_values).x\n",
    "print(f'Phi = {Phi:.2f} W')"
   ],
   "metadata": {
    "collapsed": false,
    "pycharm": {
     "name": "#%%\n"
    }
   }
  },
  {
   "cell_type": "markdown",
   "source": [
    "## 习题02-75"
   ],
   "metadata": {
    "collapsed": false,
    "pycharm": {
     "name": "#%% md\n"
    }
   }
  },
  {
   "cell_type": "code",
   "execution_count": 54,
   "outputs": [
    {
     "name": "stdout",
     "output_type": "stream",
     "text": [
      "q_r = 37298.92 W/m\n"
     ]
    }
   ],
   "source": [
    "t_s2 = 25\n",
    "t_s1 = 150\n",
    "lambda_ = 15\n",
    "r_2 = 35e-3\n",
    "r_3 = 48e-3\n",
    "\n",
    "R = cylindrical_wall_R(r_2, r_3, lambda_, 1)\n",
    "q_r = (t_s1 - t_s2) / R\n",
    "print(f'q_r = {q_r:.2f} W/m')"
   ],
   "metadata": {
    "collapsed": false,
    "pycharm": {
     "name": "#%%\n"
    }
   }
  },
  {
   "cell_type": "markdown",
   "source": [
    "## 习题02-76"
   ],
   "metadata": {
    "collapsed": false,
    "pycharm": {
     "name": "#%% md\n"
    }
   }
  },
  {
   "cell_type": "code",
   "execution_count": 55,
   "outputs": [
    {
     "name": "stdout",
     "output_type": "stream",
     "text": [
      "苹果中心温度为5.11 C\n",
      "苹果表面温度为5.09 C\n"
     ]
    }
   ],
   "source": [
    "Q = 4000  # J/kg\n",
    "time = 1 * sc.day\n",
    "rho = 840\n",
    "lambda_ = 0.5\n",
    "h = 6\n",
    "d = 80e-3\n",
    "t_oo = 5\n",
    "v = 0.6\n",
    "\n",
    "Q_v = Q * rho\n",
    "Phi = Q_v / time\n",
    "\n",
    "Delta_T = sphere_Delta_T_with_heat_source(d/2, lambda_, Phi)\n",
    "surface_area = np.pi * d**2\n",
    "V = 4 / 3 * np.pi * (d/2)**3\n",
    "t_r = t_oo + Phi * V / (h * surface_area)\n",
    "t_0 = t_r + Delta_T\n",
    "print(f'苹果中心温度为{t_0:.2f} C')\n",
    "print(f'苹果表面温度为{t_r:.2f} C')\n",
    "\n",
    "# # 也可以用scipy的bvp工具求解\n",
    "# # 记y = t'(r)\n",
    "# # 定义t的导数函数，返回其1阶导数和2阶导数\n",
    "# N = 100\n",
    "#\n",
    "#\n",
    "# def derivative(r, t):\n",
    "#     return np.vstack((t[1], - 2/r * t[1] - Phi/lambda_))\n",
    "#\n",
    "#\n",
    "# # 定义边界条件，t(0) = t_water, t'(L/2) = 0\n",
    "# # 边界条件函数的t_a和t_b参数为边界条件的起始和终止点\n",
    "# def bc(t_a, t_b):\n",
    "#     return np.array([t_a[1], lambda_ * t_b[1] + h * (t_b[0] - t_oo)])\n",
    "#\n",
    "#\n",
    "# r = np.linspace(0.0001, d/2, N)\n",
    "# t = np.zeros((2, r.size))\n",
    "# t[0, 0] = t_oo\n",
    "# result = solve_bvp(derivative, bc, r, t)\n",
    "#\n",
    "# x_plot = np.linspace(0.0001, d/2, N)\n",
    "# t_plot = result.sol(x_plot)[0]\n",
    "# plt.plot(x_plot, t_plot)\n",
    "# plt.grid()\n",
    "# plt.xlabel('r(m)')\n",
    "# plt.ylabel('t(°C)')\n",
    "# plt.show()\n",
    "# print(f'苹果中心温度为{t_plot[0]:.2f} C')\n",
    "# print(f'苹果表面温度为{t_plot[-1]:.2f} C')"
   ],
   "metadata": {
    "collapsed": false,
    "pycharm": {
     "name": "#%%\n"
    }
   }
  },
  {
   "cell_type": "markdown",
   "source": [
    "## 习题02-78"
   ],
   "metadata": {
    "collapsed": false,
    "pycharm": {
     "name": "#%% md\n"
    }
   }
  },
  {
   "cell_type": "code",
   "execution_count": 56,
   "outputs": [
    {
     "name": "stdout",
     "output_type": "stream",
     "text": [
      "由于肌肉运动所造成的最大温升为1.35 C\n"
     ]
    }
   ],
   "source": [
    "r = 2e-2\n",
    "Phi_dot = 5650\n",
    "t_o = 37\n",
    "lambda_ = 0.42\n",
    "\n",
    "Delta_T = cylinder_Delta_T_with_heat_source(r, lambda_, Phi_dot)\n",
    "print(f'由于肌肉运动所造成的最大温升为{Delta_T:.2f} C')"
   ],
   "metadata": {
    "collapsed": false,
    "pycharm": {
     "name": "#%%\n"
    }
   }
  },
  {
   "cell_type": "markdown",
   "source": [
    "## 习题02-79"
   ],
   "metadata": {
    "collapsed": false,
    "pycharm": {
     "name": "#%% md\n"
    }
   }
  },
  {
   "cell_type": "code",
   "execution_count": 57,
   "outputs": [
    {
     "name": "stdout",
     "output_type": "stream",
     "text": [
      "手柄传递的热流量为: 2.39 W\n"
     ]
    },
    {
     "data": {
      "text/plain": "<Figure size 432x288 with 1 Axes>",
      "image/png": "[encoded data removed]"
     },
     "metadata": {
      "needs_background": "light"
     },
     "output_type": "display_data"
    },
    {
     "name": "stdout",
     "output_type": "stream",
     "text": [
      "温度为35°C的位置离手柄与锅体相接部分0.017 m\n"
     ]
    }
   ],
   "source": [
    "h_i, h_o = 2, 10\n",
    "d_i, d_o = 25e-3, 30e-3\n",
    "H = 90e-3\n",
    "t_f = 15\n",
    "t_w = 70\n",
    "lambda_ = 1.3  # 缺少条件，课本并未给出，这里取黏土的导热系数\n",
    "t_search = 35\n",
    "\n",
    "r_i, r_o = d_i / 2, d_o / 2\n",
    "delta = r_o - r_i\n",
    "H_p = H + delta/2\n",
    "\n",
    "perimeter = np.pi * d_i + np.pi * d_o\n",
    "A_c = np.pi * (r_o**2 - r_i**2)\n",
    "efficiency = fin_tip_efficiency(H_p, perimeter, A_c, lambda_, 1)\n",
    "area_i = np.pi * d_i * H_p\n",
    "area_o = np.pi * d_o * H_p\n",
    "Phi = efficiency * (h_i * area_i + h_o * area_o) * (t_w - t_f)\n",
    "print(f'手柄传递的热流量为: {Phi:.2f} W')\n",
    "\n",
    "# # 用scipy的bvp工具求解具体的温度分布\n",
    "# 记y = t'(x)\n",
    "# 定义t的导数函数，返回其1阶导数和2阶导数\n",
    "N = 100\n",
    "\n",
    "\n",
    "def derivative(x, t):\n",
    "    k = 4 * (d_o*h_o + d_i*h_i) / (lambda_ * (d_o**2 - d_i**2))\n",
    "    return np.vstack((t[1], k * (t[0] - t_f)))\n",
    "\n",
    "\n",
    "# 定义边界条件，t(0) = t_water, t'(L/2) = 0\n",
    "# 边界条件函数的t_a和t_b参数为边界条件的起始和终止点\n",
    "def bc(t_a, t_b):\n",
    "    return np.array([t_a[0] - t_w, t_b[1]])\n",
    "\n",
    "\n",
    "x = np.linspace(0, H, N)\n",
    "t = np.zeros((2, x.size))\n",
    "t[0, 0] = t_w\n",
    "result = solve_bvp(derivative, bc, x, t)\n",
    "\n",
    "x_plot = np.linspace(0, H_p, N)\n",
    "t_plot = result.sol(x_plot)[0]\n",
    "plt.plot(x_plot, t_plot)\n",
    "plt.grid()\n",
    "plt.xlabel('x(m)')\n",
    "plt.ylabel('t(°C)')\n",
    "plt.show()\n",
    "\n",
    "arg = find_nearest(t_plot, t_search)\n",
    "print(f'温度为{t_search}°C的位置离手柄与锅体相接部分{x_plot[arg]:.3f} m')"
   ],
   "metadata": {
    "collapsed": false,
    "pycharm": {
     "name": "#%%\n"
    }
   }
  },
  {
   "cell_type": "markdown",
   "source": [
    "## 习题02-80"
   ],
   "metadata": {
    "collapsed": false,
    "pycharm": {
     "name": "#%% md\n"
    }
   }
  },
  {
   "cell_type": "code",
   "execution_count": 58,
   "outputs": [
    {
     "name": "stdout",
     "output_type": "stream",
     "text": [
      "小屋内的空气平均温度为：-10.73 C\n"
     ]
    }
   ],
   "source": [
    "r = 1.8\n",
    "delta = 0.5\n",
    "lambda_ = 0.15\n",
    "t_oo = -40\n",
    "h_o = 15\n",
    "h_i = 6\n",
    "t_ground = -20\n",
    "Phi = 960\n",
    "\n",
    "\n",
    "def expressions(p):\n",
    "    t = p[0]\n",
    "    area_ground = np.pi * (r**2)\n",
    "    Phi_ground = h_i * area_ground * (t - t_ground)\n",
    "\n",
    "    r_m = r + delta / 2\n",
    "\n",
    "    R_2 = spherical_wall_R(r, r+delta, lambda_)\n",
    "    R_1 = 1 / (h_i * (2 * np.pi * r**2))\n",
    "    R_3 = 1 / (h_o * (2 * np.pi * (r+delta)**2))\n",
    "\n",
    "    R_roof = R_1 + R_2 + R_3\n",
    "    Phi_roof = (t - t_oo) / R_roof\n",
    "    xpr = Phi_ground + Phi_roof - Phi\n",
    "    return xpr\n",
    "\n",
    "\n",
    "guess_value = [t_ground+1]\n",
    "t = root(expressions, guess_value).x[0]\n",
    "print(f'小屋内的空气平均温度为：{t:.2f} C')"
   ],
   "metadata": {
    "collapsed": false,
    "pycharm": {
     "name": "#%%\n"
    }
   }
  },
  {
   "cell_type": "markdown",
   "source": [
    "## 习题02-81"
   ],
   "metadata": {
    "collapsed": false,
    "pycharm": {
     "name": "#%% md\n"
    }
   }
  },
  {
   "cell_type": "code",
   "execution_count": 59,
   "outputs": [
    {
     "name": "stdout",
     "output_type": "stream",
     "text": [
      "外边面的温度为：569.14 C\n"
     ]
    }
   ],
   "source": [
    "T_av = 470\n",
    "q = 2500\n",
    "t_i = 65\n",
    "lambda_ = [0.047, 0.012, 0.038]\n",
    "delta = [0.8e-3, 0.55e-3, 3.5e-3]\n",
    "delta_12 = delta_34 = 1e-3\n",
    "h_rad = 4 * sc.sigma * T_av**3\n",
    "\n",
    "\n",
    "def expressions(p):\n",
    "    t_2, t_4, R_total = p\n",
    "    R_a = delta[0] / lambda_[0]\n",
    "    R_b = delta[1] / lambda_[1]\n",
    "    R_c = delta[2] / lambda_[2]\n",
    "    t_1 = t_i + q * R_a\n",
    "    t_12 = (t_1 + t_2)/2\n",
    "    lambda_12 = psi('L', 'T', t_12, 'P', sc.atm, 'Air')\n",
    "    R_12cond = delta_12 / lambda_12\n",
    "    R_12 = 1 / (h_rad + 1 / R_12cond)\n",
    "    xpr1 = t_2 - t_1 - q * R_12\n",
    "    t_3 = t_2 + q * R_b\n",
    "    t_34 = (t_3 + t_4)/2\n",
    "    lambda_34 = psi('L', 'T', t_34, 'P', sc.atm, 'Air')\n",
    "    R_34cond = delta_34 / lambda_34\n",
    "    R_34 = 1 / (h_rad + 1 / R_34cond)\n",
    "    xpr2 = t_4 - t_3 - q * R_34\n",
    "    xpr3 = R_total - (R_a + R_12 + R_b + R_34 + R_c)\n",
    "    return xpr1, xpr2, xpr3\n",
    "\n",
    "\n",
    "guess_values = [t_i+10, t_i+20, 1]\n",
    "t_2, t_4, R_total = root(expressions, guess_values).x\n",
    "t_o = t_i + q * R_total\n",
    "print(f'外边面的温度为：{t_o:.2f} C')"
   ],
   "metadata": {
    "collapsed": false,
    "pycharm": {
     "name": "#%%\n"
    }
   }
  },
  {
   "cell_type": "markdown",
   "source": [
    "## 习题02-86"
   ],
   "metadata": {
    "collapsed": false,
    "pycharm": {
     "name": "#%% md\n"
    }
   }
  },
  {
   "cell_type": "code",
   "execution_count": 60,
   "outputs": [
    {
     "name": "stdout",
     "output_type": "stream",
     "text": [
      "mH = 0.2740640638812596\n",
      "肋片的效率为: 97.57%\n",
      "肋面的总效率为: 99.96%\n",
      "该热沉能散发的热量为：19.74 W\n"
     ]
    }
   ],
   "source": [
    "t_0 = 75\n",
    "t_oo = 25\n",
    "h = 20\n",
    "delta = 2e-3\n",
    "H = 25e-3\n",
    "W = 12e-2\n",
    "L = 18e-2\n",
    "lambda_ = 180\n",
    "number = 6\n",
    "\n",
    "H_p = H + delta/2\n",
    "eta_fin = fin_tip_efficiency2(H_p, H_p*delta, lambda_, h)\n",
    "print(f'肋片的效率为: {eta_fin:.2%}')\n",
    "A_f = number * H_p * delta\n",
    "A_r = (W - number*delta) * L\n",
    "eta_overall = overall_fin_surface_efficiency(A_f, A_r, eta_fin)\n",
    "print(f'肋面的总效率为: {eta_overall:.2%}')\n",
    "R_overall = 1 / (h * (A_f + A_r) * eta_overall)\n",
    "# 缺少条件，未知底层厚度，这里取肋片的厚度delta\n",
    "R_conduction = delta / (lambda_ * W*L)\n",
    "Phi = (t_0 - t_oo) / (R_overall + R_conduction)\n",
    "print(f'该热沉能散发的热量为：{Phi:.2f} W')"
   ],
   "metadata": {
    "collapsed": false,
    "pycharm": {
     "name": "#%%\n"
    }
   }
  },
  {
   "cell_type": "markdown",
   "source": [
    "## 习题02-87"
   ],
   "metadata": {
    "collapsed": false,
    "pycharm": {
     "name": "#%% md\n"
    }
   }
  },
  {
   "cell_type": "code",
   "execution_count": 61,
   "outputs": [
    {
     "name": "stdout",
     "output_type": "stream",
     "text": [
      "需要3个针肋\n"
     ]
    }
   ],
   "source": [
    "t_w = 70\n",
    "l_1, l_2 = 10e-2, 16e-2\n",
    "H, d = 3e-2, 4.2e-2\n",
    "lambda_ = 15\n",
    "t_f = 20\n",
    "h = 70\n",
    "Phi = 80\n",
    "\n",
    "perimeter = np.pi * d\n",
    "A_c = np.pi * d**2 / 4\n",
    "H_p = H + d/4  # H_p = H + A_c/perimeter\n",
    "R_fin = fin_tip_R(H_p, perimeter, A_c, lambda_, h)\n",
    "\n",
    "\n",
    "def expressions(p):\n",
    "    number = p\n",
    "    R_fins = R_fin / number\n",
    "    R_base = 1 / (h * (l_1*l_2 - number*np.pi*d**2/4))\n",
    "    xpr = Phi - (t_w - t_f) * (1/R_base + 1/R_fins)\n",
    "    return xpr\n",
    "\n",
    "\n",
    "guess_values = 1\n",
    "number = root(expressions, guess_values).x[0]\n",
    "print(f'需要{int(np.ceil(number))}个针肋')"
   ],
   "metadata": {
    "collapsed": false,
    "pycharm": {
     "name": "#%%\n"
    }
   }
  },
  {
   "cell_type": "markdown",
   "source": [
    "## 习题02-91"
   ],
   "metadata": {
    "collapsed": false,
    "pycharm": {
     "name": "#%% md\n"
    }
   }
  },
  {
   "cell_type": "code",
   "execution_count": 62,
   "outputs": [
    {
     "name": "stdout",
     "output_type": "stream",
     "text": [
      "接触热阻为：1.73e-04 m^2-K/W\n"
     ]
    }
   ],
   "source": [
    "y_list = np.array([51.2, 53.3, 54.4, 56.9, 59.5, 61.6])\n",
    "x_list = np.array([5, 25, 40, 60, 75, 95])*1e-3\n",
    "\n",
    "lambda_ = 42.8\n",
    "x = 50e-3   # 题目错误，应该是50e-3\n",
    "result1 = np.polyfit(x_list[:3], y_list[:3], 1)\n",
    "t_50_l = np.poly1d(result1)(x)\n",
    "result2 = np.polyfit(x_list[3:], y_list[3:], 1)\n",
    "t_50_r = np.poly1d(result2)(x)\n",
    "Delta_T = t_50_r - t_50_l\n",
    "\n",
    "q = lambda_ * (result1[1] + result2[1]) / 2\n",
    "R_c = Delta_T / q\n",
    "print(f'接触热阻为：{R_c:.2e} m^2-K/W')"
   ],
   "metadata": {
    "collapsed": false,
    "pycharm": {
     "name": "#%%\n"
    }
   }
  },
  {
   "cell_type": "markdown",
   "source": [
    "## 习题02-92"
   ],
   "metadata": {
    "collapsed": false,
    "pycharm": {
     "name": "#%% md\n"
    }
   }
  },
  {
   "cell_type": "code",
   "execution_count": 63,
   "outputs": [
    {
     "name": "stdout",
     "output_type": "stream",
     "text": [
      "当空气流速为0.6 m/s时，散热量为：272.92 W\n",
      "当空气流速为1.0 m/s时，散热量为：370.73 W\n",
      "当空气流速为1.5 m/s时，散热量为：469.95 W\n",
      "当空气流速为2.0 m/s时，散热量为：553.95 W\n",
      "当空气流速为2.5 m/s时，散热量为：627.76 W\n"
     ]
    },
    {
     "data": {
      "text/plain": "<Figure size 432x288 with 1 Axes>",
      "image/png": "[encoded data removed]"
     },
     "metadata": {
      "needs_background": "light"
     },
     "output_type": "display_data"
    }
   ],
   "source": [
    "d = 7.5e-3\n",
    "distance = 10e-3\n",
    "t_f = 25\n",
    "t_w = 120\n",
    "W = 10e-2\n",
    "\n",
    "L = 6e-2  # 圆柱的高度。缺少条件，这里自己取的6 cm。\n",
    "lambda_ = 180  # 导热系数。缺少条件，这里自己取的180 W/(m-K)。\n",
    "\n",
    "\n",
    "def h(u):\n",
    "    return 5.12 * u**0.65 / d**0.35\n",
    "\n",
    "\n",
    "u = np.array([0.6, 1.0, 1.5, 2.0, 2.5])\n",
    "h = h(u)\n",
    "\n",
    "perimeter = np.pi * d\n",
    "A_c = np.pi * (d/2)**2\n",
    "H_p = L + A_c / perimeter\n",
    "eta_fin = fin_tip_efficiency(H_p, perimeter, A_c, lambda_, h)\n",
    "# print(f'肋片的效率为: {eta_fin:.2%}')\n",
    "number = 10*10\n",
    "A_f = number * H_p * perimeter\n",
    "A_r = W*W - number*A_c\n",
    "eta_overall = overall_fin_surface_efficiency(A_f, A_r, eta_fin)\n",
    "# print(f'肋面的总效率为: {eta_overall:.2%}')\n",
    "R_overall = 1 / (h * (A_f + A_r) * eta_overall)\n",
    "Phi = (t_w - t_f) / R_overall\n",
    "[print(f'当空气流速为{speed} m/s时，散热量为：{phi:.2f} W') for (speed, phi) in zip(u, Phi)]\n",
    "\n",
    "fig, ax = plt.subplots()\n",
    "ax.plot(u, Phi)\n",
    "ax.set_xlabel('空气流速（m/s）')\n",
    "ax.set_ylabel('散热量（W）')\n",
    "ax.set_title('散热量随空气流速的变化')\n",
    "plt.show()"
   ],
   "metadata": {
    "collapsed": false,
    "pycharm": {
     "name": "#%%\n"
    }
   }
  },
  {
   "cell_type": "markdown",
   "source": [
    "## 习题02-93"
   ],
   "metadata": {
    "collapsed": false,
    "pycharm": {
     "name": "#%% md\n"
    }
   }
  },
  {
   "cell_type": "code",
   "execution_count": 64,
   "outputs": [
    {
     "data": {
      "text/plain": "<Figure size 432x288 with 1 Axes>",
      "image/png": "[encoded data removed]"
     },
     "metadata": {
      "needs_background": "light"
     },
     "output_type": "display_data"
    }
   ],
   "source": [
    "delta = 0.0001\n",
    "x = np.linspace(delta, 2.5, 1000)\n",
    "mH = np.sqrt(2) * x\n",
    "I_0 = iv(0, 2*mH)\n",
    "I_1 = iv(1, 2*mH)\n",
    "I_2 = iv(2, 2*mH)\n",
    "eta = 2 / mH * I_2 / I_1\n",
    "fig, ax = plt.subplots()\n",
    "ax.plot(x, eta)\n",
    "ax.set_xlabel('$x$')\n",
    "ax.set_ylabel('$\\eta(x)$')\n",
    "plt.show()"
   ],
   "metadata": {
    "collapsed": false,
    "pycharm": {
     "name": "#%%\n"
    }
   }
  },
  {
   "cell_type": "markdown",
   "source": [],
   "metadata": {
    "collapsed": false,
    "pycharm": {
     "name": "#%% md\n"
    }
   }
  }
 ],
 "metadata": {
  "kernelspec": {
   "display_name": "Python 3",
   "language": "python",
   "name": "python3"
  },
  "language_info": {
   "codemirror_mode": {
    "name": "ipython",
    "version": 3
   },
   "file_extension": ".py",
   "mimetype": "text/x-python",
   "name": "python",
   "nbconvert_exporter": "python",
   "pygments_lexer": "ipython3",
   "version": "3.6.13"
  },
  "latex_envs": {
   "LaTeX_envs_menu_present": true,
   "autoclose": false,
   "autocomplete": true,
   "bibliofile": "biblio.bib",
   "cite_by": "apalike",
   "current_citInitial": 1,
   "eqLabelWithNumbers": true,
   "eqNumInitial": 1,
   "hotkeys": {
    "equation": "Ctrl-E",
    "itemize": "Ctrl-I"
   },
   "labels_anchors": false,
   "latex_user_defs": false,
   "report_style_numbering": false,
   "user_envs_cfg": false
  }
 },
 "nbformat": 4,
 "nbformat_minor": 5
}