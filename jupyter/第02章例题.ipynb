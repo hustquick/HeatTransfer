{
 "cells": [
  {
   "cell_type": "markdown",
   "id": "85a8fc3f",
   "metadata": {
    "pycharm": {
     "name": "#%% md\n"
    }
   },
   "source": [
    "# 导言区"
   ]
  },
  {
   "cell_type": "code",
   "execution_count": 1,
   "id": "f397dd62",
   "metadata": {
    "pycharm": {
     "name": "#%%\n"
    }
   },
   "outputs": [],
   "source": [
    "import numpy as np\n",
    "import scipy.constants as const\n",
    "from Functions.SteadyStateConduction import *\n",
    "from Appendix.Appendix4_lambda_ import get_lambda_\n",
    "from scipy.optimize import root\n",
    "from CoolProp.CoolProp import PropsSI as psi\n",
    "import scipy.constants as sc"
   ]
  },
  {
   "cell_type": "markdown",
   "id": "ef64da1a",
   "metadata": {
    "pycharm": {
     "name": "#%% md\n"
    }
   },
   "source": [
    "## 例题02-01"
   ]
  },
  {
   "cell_type": "code",
   "execution_count": 2,
   "id": "1f1339d6",
   "metadata": {
    "pycharm": {
     "name": "#%%\n"
    }
   },
   "outputs": [
    {
     "name": "stdout",
     "output_type": "stream",
     "text": [
      "q = 1268662.50 J/m^2\n"
     ]
    }
   ],
   "source": [
    "material = '水泥珍沪岩制品'\n",
    "rho = 300\n",
    "delta = 120e-3\n",
    "t1 = 500\n",
    "t2 = 50\n",
    "tau = 1 * 3600\n",
    "\n",
    "t_m = (t1 + t2) / 2\n",
    "lambda_m = get_lambda_(material, t_m)\n",
    "q = lambda_m * (t1 - t2) / delta * tau\n",
    "print(f'q = {q:.2f} J/m^2')"
   ]
  },
  {
   "cell_type": "markdown",
   "id": "a7c319e9",
   "metadata": {
    "pycharm": {
     "name": "#%% md\n"
    }
   },
   "source": [
    "## 例题02-02"
   ]
  },
  {
   "cell_type": "code",
   "execution_count": 3,
   "id": "38350502",
   "metadata": {
    "pycharm": {
     "name": "#%%\n"
    }
   },
   "outputs": [
    {
     "name": "stdout",
     "output_type": "stream",
     "text": [
      "Q = 870663.05 J/m^2-h\n",
      "t_12 = 468.50 C\n"
     ]
    }
   ],
   "source": [
    "material1 = '耐火黏土砖'\n",
    "material2 = 'B 级硅藻土制品'\n",
    "material3 = '石棉板'\n",
    "\n",
    "delta1 = 115e-3\n",
    "delta2 = 125e-3\n",
    "delta3 = 70e-3\n",
    "\n",
    "t_in = 495\n",
    "t_out = 60\n",
    "\n",
    "tau = 3600\n",
    "\n",
    "lambda_3 = 0.116    # 根据附录4无法查知石棉板的导热系数，这里只能取课本给的值\n",
    "\n",
    "\n",
    "def expressions(p):\n",
    "    t_12, t_23, q = p\n",
    "    expr1 = q - get_lambda_(material1, (t_in + t_12)/2) * (t_in - t_12) / delta1\n",
    "    expr2 = q - get_lambda_(material2, (t_12 + t_23)/2) * (t_12 - t_23) / delta2\n",
    "    expr3 = q - lambda_3 * (t_23 - t_out) / delta3\n",
    "    return expr1, expr2, expr3\n",
    "\n",
    "\n",
    "guess_value = [t_in - 10, t_in - 20, 1]\n",
    "t_12, t_23, q = root(expressions, guess_value).x\n",
    "Q = q * tau\n",
    "print(f'Q = {Q:.2f} J/m^2-h')\n",
    "print(f't_12 = {t_12:.2f} C')"
   ]
  },
  {
   "cell_type": "markdown",
   "id": "c20ae761",
   "metadata": {
    "pycharm": {
     "name": "#%% md\n"
    }
   },
   "source": [
    "## 例题02-03"
   ]
  },
  {
   "cell_type": "code",
   "execution_count": 4,
   "id": "997469bb",
   "metadata": {
    "pycharm": {
     "name": "#%%\n"
    }
   },
   "outputs": [
    {
     "name": "stdout",
     "output_type": "stream",
     "text": [
      "R_1 = 2.16e-05\n",
      "R_2 = 8.62e-04\n",
      "R_3 = 8.62e-03\n"
     ]
    }
   ],
   "source": [
    "lambda_1 = 46.4\n",
    "lambda_2 = 1.16\n",
    "lambda_3 = 0.116\n",
    "\n",
    "delta = 1e-3\n",
    "\n",
    "R_1 = delta / lambda_1\n",
    "R_2 = delta / lambda_2\n",
    "R_3 = delta / lambda_3\n",
    "\n",
    "print(f'R_1 = {R_1:.2e}')\n",
    "print(f'R_2 = {R_2:.2e}')\n",
    "print(f'R_3 = {R_3:.2e}')"
   ]
  },
  {
   "cell_type": "markdown",
   "id": "f831a858",
   "metadata": {
    "pycharm": {
     "name": "#%% md\n"
    }
   },
   "source": [
    "## 例题02-04"
   ]
  },
  {
   "cell_type": "code",
   "execution_count": 5,
   "id": "0f04caba",
   "metadata": {
    "pycharm": {
     "name": "#%%\n"
    }
   },
   "outputs": [
    {
     "name": "stdout",
     "output_type": "stream",
     "text": [
      "Phi = 13.09 W\n"
     ]
    }
   ],
   "source": [
    "d = 50e-3\n",
    "l = 300e-3\n",
    "lambda_ = 50\n",
    "t_1 = 60\n",
    "t_2 = 20\n",
    "\n",
    "A = np.pi * d**2 / 4\n",
    "Phi = lambda_ * A * (t_1 - t_2) / l\n",
    "print(f'Phi = {Phi:.2f} W') # 课本结果有误"
   ]
  },
  {
   "cell_type": "markdown",
   "id": "7871a0bc",
   "metadata": {
    "pycharm": {
     "name": "#%% md\n"
    }
   },
   "source": [
    "## 例题02-05"
   ]
  },
  {
   "cell_type": "code",
   "execution_count": 6,
   "id": "a3852dbe",
   "metadata": {
    "pycharm": {
     "name": "#%%\n"
    }
   },
   "outputs": [
    {
     "name": "stdout",
     "output_type": "stream",
     "text": [
      "delta = 0.035 m\n"
     ]
    }
   ],
   "source": [
    "d = 133e-3\n",
    "t = 400\n",
    "t_insu = 50\n",
    "material = '水泥珍沪岩制品'\n",
    "Phi_l_max = 465\n",
    "\n",
    "t_m = (t + t_insu) / 2\n",
    "lambda_m = get_lambda_(material, t_m)\n",
    "r1 = d / 2\n",
    "\n",
    "\n",
    "def expressions(p):\n",
    "    r2, R = p\n",
    "    expr1 = R - cylindrical_wall_R(r1, r2, lambda_m, 1)\n",
    "    expr2 = Phi_l_max - (t - t_insu) / R\n",
    "    return expr1, expr2\n",
    "\n",
    "\n",
    "guess_value = (r1 + 0.1, 1)\n",
    "r2, R = root(expressions, guess_value).x\n",
    "delta = r2 - r1\n",
    "print(f'delta = {delta:.3f} m')"
   ]
  },
  {
   "cell_type": "markdown",
   "id": "c0bd40a7",
   "metadata": {
    "pycharm": {
     "name": "#%% md\n"
    }
   },
   "source": [
    "## 例题02-06"
   ]
  },
  {
   "cell_type": "code",
   "execution_count": 7,
   "id": "1a986ef4",
   "metadata": {
    "pycharm": {
     "name": "#%%\n"
    }
   },
   "outputs": [
    {
     "name": "stdout",
     "output_type": "stream",
     "text": [
      "t_f = 104.78 C\n"
     ]
    }
   ],
   "source": [
    "t_show = 100\n",
    "t_0 = 50\n",
    "H = 140e-3\n",
    "delta = 1e-3\n",
    "lambda_ = 58.2\n",
    "h = 29.1\n",
    "\n",
    "ratio = fin_tip_Delta_T_ratio(H, np.pi*1, np.pi*1*delta, lambda_, h)\n",
    "guess_value = t_0 + 10\n",
    "t_f = root(lambda t_f: ratio - (t_f - t_show) / (t_f - t_0), guess_value).x[0]\n",
    "print(f't_f = {t_f:.2f} C')"
   ]
  },
  {
   "cell_type": "markdown",
   "id": "2d87fb05",
   "metadata": {
    "pycharm": {
     "name": "#%% md\n"
    }
   },
   "source": [
    "## 例题02-07"
   ]
  },
  {
   "cell_type": "code",
   "execution_count": 8,
   "id": "dc188563",
   "metadata": {
    "pycharm": {
     "name": "#%%\n"
    }
   },
   "outputs": [
    {
     "name": "stdout",
     "output_type": "stream",
     "text": [
      "mH = 0.5588604476969182\n",
      "Phi = 67.47 W\n",
      "总换热量为 21128.56 W\n"
     ]
    }
   ],
   "source": [
    "d = 25e-3\n",
    "H = 15e-3\n",
    "delta = 1.0e-3\n",
    "t_0 = 170\n",
    "t_f = 25\n",
    "lambda_ = 200\n",
    "h = 130\n",
    "\n",
    "H_p = H + delta / 2\n",
    "r_1 = d / 2\n",
    "r_2 = d / 2 + H_p\n",
    "A_L = delta * H_p\n",
    "\n",
    "eta = fin_tip_efficiency2(H_p, A_L, lambda_, h)\n",
    "\n",
    "A_f = 2 * np.pi * (r_2**2 - r_1**2)\n",
    "Phi_0 = h * A_f * (t_0 - t_f)\n",
    "Phi = eta * Phi_0\n",
    "print(f'Phi = {Phi:.2f} W')\n",
    "\n",
    "length = 0.94\n",
    "N = 300\n",
    "distance = 3e-3\n",
    "l_bare = 20e-3\n",
    "\n",
    "A_r = np.pi * d * (distance - delta) * N\n",
    "A_f_N = A_f * N\n",
    "A_0 = A_f_N + A_r + 2 * np.pi * d * l_bare\n",
    "eta_0 = (A_r + eta * A_f_N) / A_0\n",
    "Phi_overall = A_0 * eta_0 * h * (t_0 - t_f)\n",
    "print(f'总换热量为 {Phi_overall:.2f} W')"
   ]
  },
  {
   "cell_type": "markdown",
   "id": "e4604d82",
   "metadata": {
    "pycharm": {
     "name": "#%% md\n"
    }
   },
   "source": [
    "## 例题02-09"
   ]
  },
  {
   "cell_type": "code",
   "execution_count": 9,
   "id": "d588ab31",
   "metadata": {
    "pycharm": {
     "name": "#%%\n"
    }
   },
   "outputs": [
    {
     "name": "stdout",
     "output_type": "stream",
     "text": [
      "t_0 = 196.80 C\n"
     ]
    }
   ],
   "source": [
    "delta_1 = 14e-3\n",
    "delta_2 = 6e-3\n",
    "Phi_dot = 1.5e7\n",
    "lamdba_1 = 35\n",
    "lambda_2 = 100\n",
    "t_f = 150\n",
    "h = 3500\n",
    "\n",
    "q = delta_1/2 * Phi_dot\n",
    "t_2 = t_f + q / h\n",
    "t_1 = q * delta_2 / lambda_2 + t_2\n",
    "t_0 = t_1 + Phi_dot * (delta_1 / 2)**2 / (2*lamdba_1)\n",
    "print(f't_0 = {t_0:.2f} C')"
   ]
  },
  {
   "cell_type": "markdown",
   "id": "63682552",
   "metadata": {
    "pycharm": {
     "name": "#%% md\n"
    }
   },
   "source": [
    "## 例题02-10"
   ]
  },
  {
   "cell_type": "code",
   "execution_count": 10,
   "id": "e82452f1",
   "metadata": {
    "pycharm": {
     "name": "#%%\n"
    }
   },
   "outputs": [
    {
     "name": "stdout",
     "output_type": "stream",
     "text": [
      "稳态过程中，铀棒的最高温度为2391 K\n"
     ]
    }
   ],
   "source": [
    "d_i = 8.25e-3       # 合金管内径\n",
    "d_o = 9.27e-3       # 合金管外径\n",
    "distance = 17.5e-3  # 合金管距离\n",
    "phi_dot = 8.73e8    # 铀棒热功率\n",
    "T_f = 400           # 冷却水温度\n",
    "h_o = 10000         # 合金管外壁换热系数\n",
    "h_ct = 6000         # 合金管内壁换热系数\n",
    "\n",
    "T_list1 = [500, 600, 800]   # 温度列表1\n",
    "lambda_zir_list1 = [16.2, 17.2, 19.2]   # 合金管导热系数列表\n",
    "T_list2 = [1000, 1500, 2000]    # 温度列表2\n",
    "lambda_u_list2 = [3.9, 2.6, 2.3]    # 铀棒导热系数列表\n",
    "\n",
    "\n",
    "def lambda_zir(T):\n",
    "    return np.interp(T, T_list1, lambda_zir_list1)\n",
    "\n",
    "\n",
    "def lambda_u(T):\n",
    "    return np.interp(T, T_list2, lambda_u_list2)\n",
    "\n",
    "\n",
    "A_i = np.pi * d_i\n",
    "A_o = np.pi * d_o\n",
    "Q = phi_dot * np.pi * d_i**2 / 4    # 铀棒热功率\n",
    "\n",
    "\n",
    "def expressions(p):\n",
    "    \"\"\" T_u, T_i, T_o都是未知数，有三个关于它们的方程，因此可以求解方程组。\n",
    "        其中，lambda_zir是关于(T_i + T_o) / 2的函数。\n",
    "    \"\"\"\n",
    "    T_u, T_i, T_o = p\n",
    "    expr1 = Q - h_ct * A_i * (T_u - T_i)\n",
    "    expr2 = Q - h_o * A_o * (T_o - T_f)\n",
    "    expr3 = Q - 2 * np.pi * lambda_zir((T_i + T_o) / 2) * (T_i - T_o) \\\n",
    "           / np.log(d_o / d_i)\n",
    "    return expr1, expr2, expr3\n",
    "\n",
    "\n",
    "guess_value = np.array([1000, 900, 800])\n",
    "T_u, T_i, T_o = root(expressions, guess_value).x\n",
    "\n",
    "\n",
    "# def eqation2(p):\n",
    "#     T_max = p\n",
    "#     err = T_max - 1 / 4 * phi_dot * (d_i**2 / 4) / lambda_u((T_max + T_u) / 2) - T_u\n",
    "#     return err\n",
    "\n",
    "\n",
    "guess_value2 = T_u + 100\n",
    "T_max = root(lambda T_max: T_max - 1 / 4 * phi_dot * (d_i**2 / 4) / lambda_u((T_max + T_u) / 2) - T_u,\n",
    "               guess_value2).x[0]\n",
    "print(f\"稳态过程中，铀棒的最高温度为{T_max:.0f} K\")"
   ]
  },
  {
   "cell_type": "markdown",
   "id": "9234be18",
   "metadata": {
    "pycharm": {
     "name": "#%% md\n"
    }
   },
   "source": [
    "## 例题02-11"
   ]
  },
  {
   "cell_type": "code",
   "execution_count": 11,
   "id": "89df7811",
   "metadata": {
    "pycharm": {
     "name": "#%%\n"
    }
   },
   "outputs": [
    {
     "name": "stdout",
     "output_type": "stream",
     "text": [
      "Phi = 182.76 W\n"
     ]
    }
   ],
   "source": [
    "d = 250e-3\n",
    "a, b = 500e-3, 500e-3\n",
    "t_s = 200\n",
    "t_insu = 60\n",
    "lambda_ = 0.08\n",
    "length = 2\n",
    "\n",
    "# 形状因子\n",
    "S = 2 * np.pi * length / (np.log(1.08*b/d))\n",
    "Phi = S * lambda_ * (t_s - t_insu)\n",
    "print(f'Phi = {Phi:.2f} W')"
   ]
  },
  {
   "cell_type": "markdown",
   "id": "1c8ed6ee",
   "metadata": {
    "pycharm": {
     "name": "#%% md\n"
    }
   },
   "source": [
    "## 例题02-12"
   ]
  },
  {
   "cell_type": "code",
   "execution_count": 12,
   "id": "6b2bc043",
   "metadata": {
    "pycharm": {
     "name": "#%%\n"
    }
   },
   "outputs": [
    {
     "name": "stdout",
     "output_type": "stream",
     "text": [
      "每平方米上的散热量是：42.62 W/m^2\n",
      "保温层应增加到：46 mm\n"
     ]
    }
   ],
   "source": [
    "delta_1 = 1e-3\n",
    "lambda_1 = 160\n",
    "delta_4 = 2e-3\n",
    "lambda_4 = 200\n",
    "delta_3 = 10e-3\n",
    "material_3 = '超细玻璃棉毡、管'\n",
    "delta_2 = 20e-3\n",
    "material_2 = 'Air'\n",
    "\n",
    "t_01 = 20\n",
    "t_45 = -30\n",
    "\n",
    "\n",
    "def expressions(p):\n",
    "    t_12, t_23, t_34, q = p\n",
    "    lambda_3 = get_lambda_(material_3, (t_23 + t_34) / 2)\n",
    "    lambda_2 = psi('L', 'T', sc.convert_temperature((t_12 + t_23) / 2, 'C', 'K'), 'P', sc.atm, material_2)\n",
    "    expr1 = q - (t_01 - t_12) * lambda_1 / delta_1\n",
    "    expr2 = q - (t_12 - t_23) * lambda_2 / delta_2\n",
    "    expr3 = q - (t_23 - t_34) * lambda_3 / delta_3\n",
    "    expr4 = q - (t_34 - t_45) * lambda_4 / delta_4\n",
    "    return expr1, expr2, expr3, expr4\n",
    "\n",
    "\n",
    "guess_value = [t_01 - 1, t_01 - 2, t_01 - 3, 1]\n",
    "t_12, t_23, t_34, q = root(expressions, guess_value).x\n",
    "lambda_3 = get_lambda_(material_3, (t_23 + t_34) / 2)\n",
    "lambda_2 = psi('L', 'T', sc.convert_temperature((t_12 + t_23) / 2, 'C', 'K'), 'P', sc.atm, material_2)\n",
    "print(f'每平方米上的散热量是：{q:.2f} W/m^2')\n",
    "\n",
    "# 如果散热量降到一半\n",
    "q_p = q / 2\n",
    "\n",
    "\n",
    "def expressions2(p):\n",
    "    t_12p, t_23p, t_34p, delta_3p = p\n",
    "    lambda_3p = get_lambda_(material_3, (t_23p + t_34p) / 2)\n",
    "    lambda_2p = psi('L', 'T', sc.convert_temperature((t_12p + t_23p) / 2, 'C', 'K'), 'P', sc.atm, material_2)\n",
    "    expr1 = q_p - (t_01 - t_12p) * lambda_1 / delta_1\n",
    "    expr2 = q_p - (t_12p - t_23p) * lambda_2p / delta_2\n",
    "    expr3 = q_p - (t_23p - t_34p) * lambda_3p / delta_3p\n",
    "    expr4 = q_p - (t_34p - t_45) * lambda_4 / delta_4\n",
    "    return expr1, expr2, expr3, expr4\n",
    "\n",
    "\n",
    "guess_value = [t_12, t_23, t_34, delta_3]\n",
    "t_12p, t_23p, t_34p, delta_3p = root(expressions2, guess_value).x\n",
    "lambda_3p = get_lambda_(material_3, (t_23p + t_34p) / 2)\n",
    "lambda_2p = psi('L', 'T', sc.convert_temperature((t_12p + t_23p) / 2, 'C', 'K'), 'P', sc.atm, material_2)\n",
    "print(f'保温层应增加到：{delta_3p * 1000:.0f} mm')"
   ]
  },
  {
   "cell_type": "markdown",
   "id": "a185dd9c",
   "metadata": {
    "pycharm": {
     "name": "#%% md\n"
    }
   },
   "source": [
    "## 例题02-13"
   ]
  },
  {
   "cell_type": "code",
   "execution_count": 13,
   "id": "efbac885",
   "metadata": {
    "pycharm": {
     "name": "#%%\n"
    }
   },
   "outputs": [
    {
     "name": "stdout",
     "output_type": "stream",
     "text": [
      "晶体管的散热量为：1.63 W\n"
     ]
    }
   ],
   "source": [
    "d_1 = 4e-3\n",
    "thickness = 6e-3   # 环的的厚度\n",
    "length = 0.01   # 肋片高度，课本缺失\n",
    "delta_al = 1e-3\n",
    "lambda_al = 200\n",
    "delta = 0.7e-3\n",
    "R_A_ct = 1e-3\n",
    "t_air = 20\n",
    "h_air = 25\n",
    "t = 80\n",
    "N = 12\n",
    "\n",
    "A_ct = np.pi * d_1 * thickness\n",
    "R_ct = R_A_ct / A_ct    # 接触热阻\n",
    "# 铝圈导热热阻\n",
    "R_al = cylindrical_wall_R(d_1 / 2, d_1 / 2 + delta_al, lambda_al, thickness)\n",
    "A_c = thickness * delta\n",
    "perimeter = 2 * (thickness + delta)\n",
    "# 每根肋片热阻\n",
    "R_f = fin_tip_R(length+delta/2, perimeter, A_c, lambda_al, h_air)\n",
    "\n",
    "# 肋片的总热阻\n",
    "R_f_12 = R_f / 12\n",
    "# 根部热阻\n",
    "R_r = 1 / (h_air * (np.pi * (d_1 + 2 * delta_al) - N * delta) * thickness)\n",
    "# 肋片的总等效热阻\n",
    "R_eq = 1 / (1/ R_f_12 + 1/ R_r)\n",
    "\n",
    "# 总热阻\n",
    "R_total = R_ct + R_al + R_eq\n",
    "\n",
    "Phi = (t - t_air) / R_total\n",
    "\n",
    "print(f'晶体管的散热量为：{Phi:.2f} W')\n",
    "\n",
    "eta_f = fin_tip_efficiency(length, perimeter, A_c, lambda_al, h_air)"
   ]
  },
  {
   "cell_type": "markdown",
   "id": "ba3a5642",
   "metadata": {
    "pycharm": {
     "name": "#%% md\n"
    }
   },
   "source": [
    "## 例题02-14"
   ]
  },
  {
   "cell_type": "code",
   "execution_count": 14,
   "id": "2474366e",
   "metadata": {
    "pycharm": {
     "name": "#%%\n"
    }
   },
   "outputs": [
    {
     "name": "stdout",
     "output_type": "stream",
     "text": [
      "Phi = 21.98 W\n"
     ]
    }
   ],
   "source": [
    "delta = 50e-3\n",
    "l_1, l_2, l_3 = 50e-2, 50e-2, 55e-2 + delta\n",
    "lambda_ = 0.029\n",
    "t_in = -5\n",
    "t_out = 25\n",
    "\n",
    "# 根据表格2-2\n",
    "S_corner = 8 * 0.15 * delta\n",
    "length_1 = l_1 - 2*delta\n",
    "length_2 = l_2 - 2*delta\n",
    "length_3 = l_3 - 2*delta\n",
    "length_total = 4 * (length_1 + length_2 + length_3)\n",
    "S_edge = 0.54 * length_total\n",
    "A_wall_1 = (l_1 - 2 * delta) * (l_2 - 2 * delta)\n",
    "A_wall_2 = (l_2 - 2 * delta) * (l_3 - 2 * delta)\n",
    "A_wall_3 = (l_3 - 2 * delta) * (l_1 - 2 * delta)\n",
    "A_total = 2 * (A_wall_1 + A_wall_2 + A_wall_3)\n",
    "S_wall = A_total / delta\n",
    "S_total = S_corner + S_edge + S_wall\n",
    "Phi = lambda_ * S_total * (t_out - t_in)\n",
    "print(f'Phi = {Phi:.2f} W')"
   ]
  }
 ],
 "metadata": {
  "kernelspec": {
   "display_name": "Python 3",
   "language": "python",
   "name": "python3"
  },
  "language_info": {
   "codemirror_mode": {
    "name": "ipython",
    "version": 3
   },
   "file_extension": ".py",
   "mimetype": "text/x-python",
   "name": "python",
   "nbconvert_exporter": "python",
   "pygments_lexer": "ipython3",
   "version": "3.6.13"
  },
  "latex_envs": {
   "LaTeX_envs_menu_present": true,
   "autoclose": false,
   "autocomplete": true,
   "bibliofile": "biblio.bib",
   "cite_by": "apalike",
   "current_citInitial": 1,
   "eqLabelWithNumbers": true,
   "eqNumInitial": 1,
   "hotkeys": {
    "equation": "Ctrl-E",
    "itemize": "Ctrl-I"
   },
   "labels_anchors": false,
   "latex_user_defs": false,
   "report_style_numbering": false,
   "user_envs_cfg": false
  }
 },
 "nbformat": 4,
 "nbformat_minor": 5
}